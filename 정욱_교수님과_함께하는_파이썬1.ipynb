{
  "nbformat": 4,
  "nbformat_minor": 0,
  "metadata": {
    "colab": {
      "provenance": [],
      "authorship_tag": "ABX9TyNb36Y+fJOPNweDIfzYoq2U",
      "include_colab_link": true
    },
    "kernelspec": {
      "name": "python3",
      "display_name": "Python 3"
    },
    "language_info": {
      "name": "python"
    }
  },
  "cells": [
    {
      "cell_type": "markdown",
      "metadata": {
        "id": "view-in-github",
        "colab_type": "text"
      },
      "source": [
        "<a href=\"https://colab.research.google.com/github/rlaxodns/google-/blob/main/%EC%A0%95%EC%9A%B1_%EA%B5%90%EC%88%98%EB%8B%98%EA%B3%BC_%ED%95%A8%EA%BB%98%ED%95%98%EB%8A%94_%ED%8C%8C%EC%9D%B4%EC%8D%AC1.ipynb\" target=\"_parent\"><img src=\"https://colab.research.google.com/assets/colab-badge.svg\" alt=\"Open In Colab\"/></a>"
      ]
    },
    {
      "cell_type": "markdown",
      "source": [
        "#기본자료형과 입출력"
      ],
      "metadata": {
        "id": "AHtHJCbSdcAQ"
      }
    },
    {
      "cell_type": "code",
      "execution_count": null,
      "metadata": {
        "id": "gT3IgmEmaswx"
      },
      "outputs": [],
      "source": [
        "a=5\n",
        "b=9\n",
        "# a, b = 할당 연산자\n",
        "# 변수명에는 공백 포함 x\n",
        "# 변수명은 영문자, 한글, 숫자, 밑줄기호로 구성\n",
        "# 첫글자는 숫자로 할 수 없다\n",
        "# 대문자와 소문자 구별"
      ]
    },
    {
      "cell_type": "code",
      "source": [
        "import keyword\n",
        "print(keyword.kwlist)"
      ],
      "metadata": {
        "colab": {
          "base_uri": "https://localhost:8080/"
        },
        "id": "8t8LN-VJbGoX",
        "outputId": "b5b92b1c-348e-4994-8197-8f1e5906a436"
      },
      "execution_count": null,
      "outputs": [
        {
          "output_type": "stream",
          "name": "stdout",
          "text": [
            "['False', 'None', 'True', 'and', 'as', 'assert', 'async', 'await', 'break', 'class', 'continue', 'def', 'del', 'elif', 'else', 'except', 'finally', 'for', 'from', 'global', 'if', 'import', 'in', 'is', 'lambda', 'nonlocal', 'not', 'or', 'pass', 'raise', 'return', 'try', 'while', 'with', 'yield']\n"
          ]
        }
      ]
    },
    {
      "cell_type": "markdown",
      "source": [
        "정수형 = 123,-123,0  \n",
        "실수형 = 123.23, -12.23  \n",
        "복소수형 = 12+34e 등등\n",
        "\n",
        "산술연산자  \n",
        "+, -, *, /, %, //, **(지수연산)\n"
      ],
      "metadata": {
        "id": "SsyIuxHfbRdS"
      }
    },
    {
      "cell_type": "code",
      "source": [
        "a=3\n",
        "b=4\n",
        "c= a*b\n",
        "print(c)"
      ],
      "metadata": {
        "colab": {
          "base_uri": "https://localhost:8080/"
        },
        "id": "VXnrytMKbNno",
        "outputId": "187e8e7c-e90a-4abf-ef57-205f89b15fa7"
      },
      "execution_count": null,
      "outputs": [
        {
          "output_type": "stream",
          "name": "stdout",
          "text": [
            "12\n"
          ]
        }
      ]
    },
    {
      "cell_type": "markdown",
      "source": [
        "복합연산자  \n",
        "a+=b  \n",
        "a-=b  \n",
        "a*=b  \n",
        "a**=b"
      ],
      "metadata": {
        "id": "lPaMC6enb-aN"
      }
    },
    {
      "cell_type": "markdown",
      "source": [
        "문자열  \n",
        "\"\" or ''\n",
        "\n",
        "구어체를 통해 \"\"를 사용시 ' '로 표현가능  \n",
        "여러줄의 작은따옴표 3번 사용시 여러줄의 문자열 표현 가능\n"
      ],
      "metadata": {
        "id": "T2vI4EpTcPEU"
      }
    },
    {
      "cell_type": "code",
      "source": [
        "name= \"hoon's bakery\"\n",
        "print(name)"
      ],
      "metadata": {
        "colab": {
          "base_uri": "https://localhost:8080/"
        },
        "id": "Q7SmI6Kub8Vz",
        "outputId": "386ae4ce-bf5e-44a3-8e7a-46133fbc80f5"
      },
      "execution_count": null,
      "outputs": [
        {
          "output_type": "stream",
          "name": "stdout",
          "text": [
            "hoon's bakery\n"
          ]
        }
      ]
    },
    {
      "cell_type": "markdown",
      "source": [
        "##문자열 인덱싱\n",
        "문자열의 주소\n",
        "print(a[],a[])를 통해 출력  \n",
        "역으로 -를 통해서도 주소 지정 가능"
      ],
      "metadata": {
        "id": "A0uElKaacyYC"
      }
    },
    {
      "cell_type": "code",
      "source": [
        " a = \"동해물과 백두산이 마르고 닳도록\"\n",
        " print(a[0],a[1], a[8])"
      ],
      "metadata": {
        "colab": {
          "base_uri": "https://localhost:8080/"
        },
        "id": "6GNG-zBQcfDR",
        "outputId": "9ef94683-fa2b-45c9-a54b-7f11d4a48f48"
      },
      "execution_count": null,
      "outputs": [
        {
          "output_type": "stream",
          "name": "stdout",
          "text": [
            "동 해 이\n"
          ]
        }
      ]
    },
    {
      "cell_type": "markdown",
      "source": [
        "##문자열 슬라이싱  \n",
        "ex) print( a[3:5])"
      ],
      "metadata": {
        "id": "APXiPU3rdh6U"
      }
    },
    {
      "cell_type": "code",
      "source": [
        " a = \"동해물과 백두산이 마르고 닳도록\"\n",
        " print(a[3:5])\n",
        " print(a[8:], a[:7])\n",
        " print(a[::2])"
      ],
      "metadata": {
        "colab": {
          "base_uri": "https://localhost:8080/"
        },
        "id": "Wu-BJSnvds4V",
        "outputId": "885f3a31-4ae7-461f-a19c-330b3ba0f9ef"
      },
      "execution_count": null,
      "outputs": [
        {
          "output_type": "stream",
          "name": "stdout",
          "text": [
            "과 \n",
            "이 마르고 닳도록 동해물과 백두\n",
            "동물 두이마고닳록\n"
          ]
        }
      ]
    },
    {
      "cell_type": "code",
      "source": [
        "#문자열 전용함수\n",
        "'hello world'. count ('o')\n"
      ],
      "metadata": {
        "colab": {
          "base_uri": "https://localhost:8080/"
        },
        "id": "bijUhrcNeV0P",
        "outputId": "9253beaa-1ee7-440d-c0d2-2918ac745609"
      },
      "execution_count": null,
      "outputs": [
        {
          "output_type": "execute_result",
          "data": {
            "text/plain": [
              "4"
            ]
          },
          "metadata": {},
          "execution_count": 22
        }
      ]
    },
    {
      "cell_type": "code",
      "source": [
        "'hello world'. find ('o')\n"
      ],
      "metadata": {
        "colab": {
          "base_uri": "https://localhost:8080/"
        },
        "id": "4UzkwJ2We6Ia",
        "outputId": "9c6b0cb1-bb5e-45a3-9e44-4a76026da01b"
      },
      "execution_count": null,
      "outputs": [
        {
          "output_type": "execute_result",
          "data": {
            "text/plain": [
              "4"
            ]
          },
          "metadata": {},
          "execution_count": 23
        }
      ]
    },
    {
      "cell_type": "code",
      "source": [
        "'hello world'. upper ()"
      ],
      "metadata": {
        "colab": {
          "base_uri": "https://localhost:8080/",
          "height": 35
        },
        "id": "CxpV3GQTe-Dj",
        "outputId": "a6293ac4-d6b1-4317-a1c5-564f4c2ee331"
      },
      "execution_count": null,
      "outputs": [
        {
          "output_type": "execute_result",
          "data": {
            "text/plain": [
              "'HELLO WORLD'"
            ],
            "application/vnd.google.colaboratory.intrinsic+json": {
              "type": "string"
            }
          },
          "metadata": {},
          "execution_count": 24
        }
      ]
    },
    {
      "cell_type": "code",
      "source": [
        "'hello world'. replace ('o','a')"
      ],
      "metadata": {
        "colab": {
          "base_uri": "https://localhost:8080/",
          "height": 35
        },
        "id": "uUOCCY2EfDFr",
        "outputId": "84f6f0ac-1471-4a05-8022-1b31d9525ddd"
      },
      "execution_count": null,
      "outputs": [
        {
          "output_type": "execute_result",
          "data": {
            "text/plain": [
              "'hella warld'"
            ],
            "application/vnd.google.colaboratory.intrinsic+json": {
              "type": "string"
            }
          },
          "metadata": {},
          "execution_count": 25
        }
      ]
    },
    {
      "cell_type": "code",
      "source": [
        "'hello world'. split ('l')"
      ],
      "metadata": {
        "colab": {
          "base_uri": "https://localhost:8080/"
        },
        "id": "QEdMEo9xfHLi",
        "outputId": "4a40a6df-886f-480b-be74-c21f134747dc"
      },
      "execution_count": null,
      "outputs": [
        {
          "output_type": "execute_result",
          "data": {
            "text/plain": [
              "['he', '', 'o wor', 'd']"
            ]
          },
          "metadata": {},
          "execution_count": 26
        }
      ]
    },
    {
      "cell_type": "markdown",
      "source": [
        "##입력"
      ],
      "metadata": {
        "id": "rhxnsxIRfOaq"
      }
    },
    {
      "cell_type": "code",
      "source": [
        "name = input(\"이름을 입력하세요:  \")\n",
        "print(name+ \"님 반갑습니다.\")"
      ],
      "metadata": {
        "colab": {
          "base_uri": "https://localhost:8080/"
        },
        "id": "6MHHSuWRfQ3a",
        "outputId": "873583bc-1261-4d9d-8cfa-d1ac2c1067e6"
      },
      "execution_count": null,
      "outputs": [
        {
          "output_type": "stream",
          "name": "stdout",
          "text": [
            "이름을 입력하세요:  왓더퍽\n",
            "왓더퍽님 반갑습니다.\n"
          ]
        }
      ]
    },
    {
      "cell_type": "code",
      "source": [
        "print(\"100\"+\"200\")"
      ],
      "metadata": {
        "colab": {
          "base_uri": "https://localhost:8080/"
        },
        "id": "LPQT6o25fm8f",
        "outputId": "fbb8822d-309e-437d-bf70-2a4ce3800ddd"
      },
      "execution_count": null,
      "outputs": [
        {
          "output_type": "stream",
          "name": "stdout",
          "text": [
            "100200\n"
          ]
        }
      ]
    },
    {
      "cell_type": "code",
      "source": [
        "print(100+200)"
      ],
      "metadata": {
        "colab": {
          "base_uri": "https://localhost:8080/"
        },
        "id": "egdPoW66fvBL",
        "outputId": "d8797e0d-f0a6-4503-db19-6052b1c1ff41"
      },
      "execution_count": null,
      "outputs": [
        {
          "output_type": "stream",
          "name": "stdout",
          "text": [
            "300\n"
          ]
        }
      ]
    },
    {
      "cell_type": "code",
      "source": [
        "eng = input(\"영어 점수를 입력하시오.\")\n",
        "math = input(\"수학 점수를 입력하시오.\")\n",
        "totalsocore = int(eng)+int(math)\n",
        "print(\"총점은\", totalsocore)\n",
        "print(\"평균은\", (int(eng)+int(math))/2)"
      ],
      "metadata": {
        "colab": {
          "base_uri": "https://localhost:8080/"
        },
        "id": "k8G_V8hofzMD",
        "outputId": "706dd41d-c112-4d3e-9232-9f97d1b7ac26"
      },
      "execution_count": null,
      "outputs": [
        {
          "output_type": "stream",
          "name": "stdout",
          "text": [
            "영어 점수를 입력하시오.20000\n",
            "수학 점수를 입력하시오.21515165165\n",
            "총점은 21515185165\n",
            "평균은 10757592582.5\n"
          ]
        }
      ]
    },
    {
      "cell_type": "markdown",
      "source": [
        "##자료형 확인하기"
      ],
      "metadata": {
        "id": "PN5aYUgxgQtG"
      }
    },
    {
      "cell_type": "code",
      "source": [
        "height = input(\"키를 입력하세요.\")\n",
        "print(type(height))\n"
      ],
      "metadata": {
        "colab": {
          "base_uri": "https://localhost:8080/"
        },
        "id": "S-EYrxV2gUtL",
        "outputId": "d2053239-84ba-4593-8510-de90a3b2ba0e"
      },
      "execution_count": null,
      "outputs": [
        {
          "output_type": "stream",
          "name": "stdout",
          "text": [
            "키를 입력하세요.1561\n",
            "<class 'str'>\n"
          ]
        }
      ]
    },
    {
      "cell_type": "code",
      "source": [
        "height = int(input(\"키를 입력하세요.\"))\n",
        "print(type(height))"
      ],
      "metadata": {
        "colab": {
          "base_uri": "https://localhost:8080/"
        },
        "id": "34qyJlKCghar",
        "outputId": "0ec9df43-39fe-40ec-84f2-50669de08970"
      },
      "execution_count": null,
      "outputs": [
        {
          "output_type": "stream",
          "name": "stdout",
          "text": [
            "키를 입력하세요.516\n",
            "<class 'int'>\n"
          ]
        }
      ]
    },
    {
      "cell_type": "markdown",
      "source": [
        "##출력"
      ],
      "metadata": {
        "id": "OaAhi0WWhMkR"
      }
    },
    {
      "cell_type": "code",
      "source": [
        "weight = 67\n",
        "print(\"몸무게는 %d입니다. \" %weight)"
      ],
      "metadata": {
        "colab": {
          "base_uri": "https://localhost:8080/"
        },
        "id": "WVHaHzTyhOP0",
        "outputId": "f8251f26-6586-4e6d-d15a-13a60769300f"
      },
      "execution_count": null,
      "outputs": [
        {
          "output_type": "stream",
          "name": "stdout",
          "text": [
            "몸무게는 67입니다.\n"
          ]
        }
      ]
    },
    {
      "cell_type": "markdown",
      "source": [
        "%-10.5f  \n",
        "출력 값의 10자리를 비워라  \n",
        ".5는 소수점 5자리까지 표현, f는 실수형 표현"
      ],
      "metadata": {
        "id": "l86DIJCIxT_f"
      }
    },
    {
      "cell_type": "code",
      "source": [
        "height = 174.5\n",
        "print(\"키는 %+10.5fcm 입니다.\" % height)\n",
        "print(\"키는 %+10dcm 입니다.\" % height)"
      ],
      "metadata": {
        "colab": {
          "base_uri": "https://localhost:8080/"
        },
        "id": "Pe6RzyYkxttL",
        "outputId": "4f58a625-dd05-4b82-d9c4-ede2da782f13"
      },
      "execution_count": null,
      "outputs": [
        {
          "output_type": "stream",
          "name": "stdout",
          "text": [
            "키는 +174.50000cm 입니다.\n",
            "키는       +174cm 입니다.\n"
          ]
        }
      ]
    },
    {
      "cell_type": "code",
      "source": [
        "name = \"김태운\"\n",
        "weight = 67\n",
        "height = 174.5\n",
        "print(\"%s의 몸무게는 %d입니다. 키는 %.4fcm 입니다.\" % (name, weight, height))"
      ],
      "metadata": {
        "colab": {
          "base_uri": "https://localhost:8080/"
        },
        "id": "Gw3G6b6RyD6w",
        "outputId": "4d9b94b5-86ef-4e11-d4a6-860976dd3aec"
      },
      "execution_count": null,
      "outputs": [
        {
          "output_type": "stream",
          "name": "stdout",
          "text": [
            "김태운의 몸무게는 67입니다. 키는 174.5000cm 입니다.\n"
          ]
        }
      ]
    },
    {
      "cell_type": "markdown",
      "source": [
        "형식 지정자를 이용한 문자열 포매팅\n",
        "### f-string"
      ],
      "metadata": {
        "id": "2xGsuFriyWE1"
      }
    },
    {
      "cell_type": "code",
      "source": [
        "x = int(input(\"지능를 입력하세요: \"))\n",
        "y= int(input(\"나의 바보 수치를 입력하세요\"))\n",
        "z= x+y\n",
        "\n",
        "print(f\"지능은 %d입니다.\" %x)\n",
        "print(f\"나의 바보 수치는 %d입니다.\" %y)\n",
        "print(f\"두뇌 회전의 합은 {z}입니다.\")"
      ],
      "metadata": {
        "colab": {
          "base_uri": "https://localhost:8080/"
        },
        "id": "j0FTjLnwz7PM",
        "outputId": "661fefc8-50f4-4b85-bb28-1b30898d9acb"
      },
      "execution_count": null,
      "outputs": [
        {
          "output_type": "stream",
          "name": "stdout",
          "text": [
            "지능를 입력하세요: 9999\n",
            "나의 바보 수치를 입력하세요0\n",
            "지능은 9999입니다.\n",
            "나의 바보 수치는 0입니다.\n",
            "두뇌 회전의 합은 9999입니다.\n"
          ]
        }
      ]
    }
  ]
}
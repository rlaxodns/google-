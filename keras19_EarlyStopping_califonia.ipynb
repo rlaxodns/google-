{
  "nbformat": 4,
  "nbformat_minor": 0,
  "metadata": {
    "colab": {
      "provenance": [],
      "authorship_tag": "ABX9TyPcN24GvDFI6hvO71pvNOdZ",
      "include_colab_link": true
    },
    "kernelspec": {
      "name": "python3",
      "display_name": "Python 3"
    },
    "language_info": {
      "name": "python"
    }
  },
  "cells": [
    {
      "cell_type": "markdown",
      "metadata": {
        "id": "view-in-github",
        "colab_type": "text"
      },
      "source": [
        "<a href=\"https://colab.research.google.com/github/rlaxodns/google-/blob/main/keras19_EarlyStopping_califonia.ipynb\" target=\"_parent\"><img src=\"https://colab.research.google.com/assets/colab-badge.svg\" alt=\"Open In Colab\"/></a>"
      ]
    },
    {
      "cell_type": "code",
      "execution_count": null,
      "metadata": {
        "id": "9HUH71HwlxrJ"
      },
      "outputs": [],
      "source": [
        "from tensorflow.keras.models import Sequential\n",
        "from tensorflow.keras.layers import Dense\n",
        "from sklearn.model_selection import train_test_split\n",
        "from sklearn.datasets import fetch_california_housing\n",
        "from sklearn.metrics import r2_score\n",
        "import matplotlib.pyplot as plt\n",
        "from keras.callbacks import EarlyStopping"
      ]
    },
    {
      "cell_type": "code",
      "source": [
        "# 데이터 구성\n",
        "data = fetch_california_housing()\n",
        "x = data.data\n",
        "y = data.target\n",
        "\n",
        "x_train, x_test, y_train, y_test = train_test_split(x, y, test_size = 0.3,\n",
        "                                                    random_state = 114)"
      ],
      "metadata": {
        "id": "wSegSWM3nBXq"
      },
      "execution_count": null,
      "outputs": []
    },
    {
      "cell_type": "code",
      "source": [
        "# 모델 구성\n",
        "model = Sequential()\n",
        "model.add(Dense(200, input_dim = 8, activation = 'relu'))\n",
        "model.add(Dense(100, activation = 'relu'))\n",
        "model.add(Dense(100, activation = 'relu'))\n",
        "model.add(Dense(1, activation = 'linear'))"
      ],
      "metadata": {
        "id": "INbMB7PdnkKM"
      },
      "execution_count": null,
      "outputs": []
    },
    {
      "cell_type": "code",
      "source": [
        "# 컴파일 및 훈련\n",
        "es = EarlyStopping(\n",
        "    monitor = 'val_loss',\n",
        "    mode = 'min',\n",
        "    patience = 50,\n",
        "    restore_best_weights = True)\n",
        "model.compile(loss = 'mse', optimizer = 'adam')\n",
        "hist = model.fit(x_train, y_train, epochs = 1000, batch_size = 2,\n",
        "                 validation_split = 0.2, callbacks = [es])"
      ],
      "metadata": {
        "colab": {
          "base_uri": "https://localhost:8080/"
        },
        "id": "yogRwTZcn3KN",
        "outputId": "92737beb-486e-4420-8e9f-3e9f69f50c82"
      },
      "execution_count": null,
      "outputs": [
        {
          "output_type": "stream",
          "name": "stdout",
          "text": [
            "Epoch 1/1000\n",
            "5779/5779 [==============================] - 25s 4ms/step - loss: 89.1142 - val_loss: 5.9526\n",
            "Epoch 2/1000\n",
            "5779/5779 [==============================] - 23s 4ms/step - loss: 1.3802 - val_loss: 1.1544\n",
            "Epoch 3/1000\n",
            "5779/5779 [==============================] - 25s 4ms/step - loss: 1.3595 - val_loss: 1.3332\n",
            "Epoch 4/1000\n",
            "5779/5779 [==============================] - 28s 5ms/step - loss: 1.3722 - val_loss: 1.3028\n",
            "Epoch 5/1000\n",
            "5779/5779 [==============================] - 29s 5ms/step - loss: 1.3815 - val_loss: 1.3137\n",
            "Epoch 6/1000\n",
            "5779/5779 [==============================] - 37s 6ms/step - loss: 1.3494 - val_loss: 1.3145\n",
            "Epoch 7/1000\n",
            "5779/5779 [==============================] - 30s 5ms/step - loss: 1.3521 - val_loss: 1.3192\n",
            "Epoch 8/1000\n",
            "5779/5779 [==============================] - 34s 6ms/step - loss: 1.3513 - val_loss: 1.3025\n",
            "Epoch 9/1000\n",
            "5779/5779 [==============================] - 21s 4ms/step - loss: 1.3513 - val_loss: 1.3025\n",
            "Epoch 10/1000\n",
            "5779/5779 [==============================] - 17s 3ms/step - loss: 1.3480 - val_loss: 1.3051\n",
            "Epoch 11/1000\n",
            "5779/5779 [==============================] - 17s 3ms/step - loss: 1.3504 - val_loss: 1.3040\n",
            "Epoch 12/1000\n",
            "5779/5779 [==============================] - 17s 3ms/step - loss: 1.3485 - val_loss: 1.3025\n",
            "Epoch 13/1000\n",
            "5779/5779 [==============================] - 17s 3ms/step - loss: 1.3474 - val_loss: 1.3396\n",
            "Epoch 14/1000\n",
            "5779/5779 [==============================] - 17s 3ms/step - loss: 1.3482 - val_loss: 1.3025\n",
            "Epoch 15/1000\n",
            "5779/5779 [==============================] - 20s 3ms/step - loss: 1.3481 - val_loss: 1.3105\n",
            "Epoch 16/1000\n",
            "5779/5779 [==============================] - 16s 3ms/step - loss: 1.3471 - val_loss: 1.3029\n",
            "Epoch 17/1000\n",
            "5779/5779 [==============================] - 16s 3ms/step - loss: 1.3474 - val_loss: 1.3027\n",
            "Epoch 18/1000\n",
            "5779/5779 [==============================] - 17s 3ms/step - loss: 1.3480 - val_loss: 1.3123\n",
            "Epoch 19/1000\n",
            "5779/5779 [==============================] - 19s 3ms/step - loss: 1.3481 - val_loss: 1.3266\n",
            "Epoch 20/1000\n",
            "5779/5779 [==============================] - 16s 3ms/step - loss: 1.3481 - val_loss: 1.3025\n",
            "Epoch 21/1000\n",
            "5779/5779 [==============================] - 18s 3ms/step - loss: 1.3477 - val_loss: 1.3170\n",
            "Epoch 22/1000\n",
            "5779/5779 [==============================] - 21s 4ms/step - loss: 1.3479 - val_loss: 1.3026\n",
            "Epoch 23/1000\n",
            "5779/5779 [==============================] - 17s 3ms/step - loss: 1.3468 - val_loss: 1.3101\n",
            "Epoch 24/1000\n",
            "5779/5779 [==============================] - 17s 3ms/step - loss: 1.3465 - val_loss: 1.3028\n",
            "Epoch 25/1000\n",
            "5779/5779 [==============================] - 18s 3ms/step - loss: 1.3471 - val_loss: 1.3125\n",
            "Epoch 26/1000\n",
            "5779/5779 [==============================] - 17s 3ms/step - loss: 1.3478 - val_loss: 1.3104\n",
            "Epoch 27/1000\n",
            "5779/5779 [==============================] - 17s 3ms/step - loss: 1.3457 - val_loss: 1.3078\n",
            "Epoch 28/1000\n",
            "5779/5779 [==============================] - 18s 3ms/step - loss: 1.3451 - val_loss: 1.3053\n",
            "Epoch 29/1000\n",
            "5779/5779 [==============================] - 20s 3ms/step - loss: 1.3466 - val_loss: 1.3029\n",
            "Epoch 30/1000\n",
            "5779/5779 [==============================] - 18s 3ms/step - loss: 1.3475 - val_loss: 1.3025\n",
            "Epoch 31/1000\n",
            "5779/5779 [==============================] - 18s 3ms/step - loss: 1.3474 - val_loss: 1.3030\n",
            "Epoch 32/1000\n",
            "5779/5779 [==============================] - 18s 3ms/step - loss: 1.3462 - val_loss: 1.3160\n",
            "Epoch 33/1000\n",
            "5779/5779 [==============================] - 17s 3ms/step - loss: 1.3466 - val_loss: 1.3077\n",
            "Epoch 34/1000\n",
            "5779/5779 [==============================] - 17s 3ms/step - loss: 1.3465 - val_loss: 1.3035\n",
            "Epoch 35/1000\n",
            "5779/5779 [==============================] - 18s 3ms/step - loss: 1.3466 - val_loss: 1.3030\n",
            "Epoch 36/1000\n",
            "5779/5779 [==============================] - 18s 3ms/step - loss: 1.3468 - val_loss: 1.3041\n",
            "Epoch 37/1000\n",
            "5779/5779 [==============================] - 17s 3ms/step - loss: 1.3461 - val_loss: 1.3056\n",
            "Epoch 38/1000\n",
            "5779/5779 [==============================] - 17s 3ms/step - loss: 1.3458 - val_loss: 1.3026\n",
            "Epoch 39/1000\n",
            "5779/5779 [==============================] - 17s 3ms/step - loss: 1.3458 - val_loss: 1.3236\n",
            "Epoch 40/1000\n",
            "5779/5779 [==============================] - 17s 3ms/step - loss: 1.3452 - val_loss: 1.3028\n",
            "Epoch 41/1000\n",
            "5779/5779 [==============================] - 17s 3ms/step - loss: 1.3462 - val_loss: 1.3048\n",
            "Epoch 42/1000\n",
            "5779/5779 [==============================] - 17s 3ms/step - loss: 1.3459 - val_loss: 1.3026\n",
            "Epoch 43/1000\n",
            "5779/5779 [==============================] - 17s 3ms/step - loss: 1.3459 - val_loss: 1.3034\n",
            "Epoch 44/1000\n",
            "5779/5779 [==============================] - 17s 3ms/step - loss: 1.3446 - val_loss: 1.3054\n",
            "Epoch 45/1000\n",
            "5779/5779 [==============================] - 16s 3ms/step - loss: 1.3460 - val_loss: 1.3032\n",
            "Epoch 46/1000\n",
            "5779/5779 [==============================] - 16s 3ms/step - loss: 1.3446 - val_loss: 1.3024\n",
            "Epoch 47/1000\n",
            "5779/5779 [==============================] - 17s 3ms/step - loss: 1.3458 - val_loss: 1.3054\n",
            "Epoch 48/1000\n",
            "5779/5779 [==============================] - 17s 3ms/step - loss: 1.3460 - val_loss: 1.3044\n",
            "Epoch 49/1000\n",
            "5779/5779 [==============================] - 17s 3ms/step - loss: 1.3461 - val_loss: 1.3048\n",
            "Epoch 50/1000\n",
            "5779/5779 [==============================] - 16s 3ms/step - loss: 1.3458 - val_loss: 1.3039\n",
            "Epoch 51/1000\n",
            "5779/5779 [==============================] - 17s 3ms/step - loss: 1.3445 - val_loss: 1.3028\n",
            "Epoch 52/1000\n",
            "5779/5779 [==============================] - 16s 3ms/step - loss: 1.3458 - val_loss: 1.3024\n"
          ]
        }
      ]
    },
    {
      "cell_type": "code",
      "source": [
        "# 평가 및 예측\n",
        "loss = model.evaluate(x_test, y_test)\n",
        "result = model.predict([x])\n",
        "\n",
        "# 결정계수\n",
        "y_pre = model.predict(x_test)\n",
        "r2 = r2_score(y_test, y_pre)\n",
        "\n",
        "print('loss : ', loss)\n",
        "print('결정계수 : ', r2)\n",
        "print(result)"
      ],
      "metadata": {
        "colab": {
          "base_uri": "https://localhost:8080/"
        },
        "id": "DeB1epaIowjY",
        "outputId": "400ac002-0901-4519-d858-2069f37343a6"
      },
      "execution_count": null,
      "outputs": [
        {
          "output_type": "stream",
          "name": "stdout",
          "text": [
            "194/194 [==============================] - 0s 2ms/step - loss: 1.1646\n",
            "645/645 [==============================] - 1s 2ms/step\n",
            "194/194 [==============================] - 1s 3ms/step\n",
            "loss :  1.1645628213882446\n",
            "결정계수 :  0.12054802927873343\n",
            "[[4.4019732]\n",
            " [1.9894004]\n",
            " [3.49881  ]\n",
            " ...\n",
            " [1.9894004]\n",
            " [1.9894004]\n",
            " [1.9894004]]\n"
          ]
        }
      ]
    },
    {
      "cell_type": "code",
      "source": [
        "# 시각화\n",
        "plt.figure(figsize = (10,10))\n",
        "plt.plot(hist.history['loss'], c = 'red', label = 'loss')\n",
        "plt.plot(hist.history['val_loss'], c = 'blue', label = 'val_loss')\n",
        "plt.legend(loc = 'upper right')\n",
        "plt.grid()\n",
        "plt.title('loss')\n",
        "plt.xlabel('epochs')\n",
        "plt.ylabel('loss')\n",
        "plt.show()"
      ],
      "metadata": {
        "colab": {
          "base_uri": "https://localhost:8080/",
          "height": 872
        },
        "id": "21syzuRNpNgU",
        "outputId": "3f384e90-07f3-4631-a643-5ec383610672"
      },
      "execution_count": null,
      "outputs": [
        {
          "output_type": "display_data",
          "data": {
            "text/plain": [
              "<Figure size 1000x1000 with 1 Axes>"
            ],
            "image/png": "[encoded data removed]"
          },
          "metadata": {}
        }
      ]
    }
  ]
}
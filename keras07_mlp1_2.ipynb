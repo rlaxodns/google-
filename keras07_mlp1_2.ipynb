{
  "nbformat": 4,
  "nbformat_minor": 0,
  "metadata": {
    "colab": {
      "provenance": [],
      "authorship_tag": "ABX9TyPpjLIsImxrDPdhgpr0gEM+",
      "include_colab_link": true
    },
    "kernelspec": {
      "name": "python3",
      "display_name": "Python 3"
    },
    "language_info": {
      "name": "python"
    }
  },
  "cells": [
    {
      "cell_type": "markdown",
      "metadata": {
        "id": "view-in-github",
        "colab_type": "text"
      },
      "source": [
        "<a href=\"https://colab.research.google.com/github/rlaxodns/google-/blob/main/keras07_mlp1_2.ipynb\" target=\"_parent\"><img src=\"https://colab.research.google.com/assets/colab-badge.svg\" alt=\"Open In Colab\"/></a>"
      ]
    },
    {
      "cell_type": "code",
      "execution_count": 1,
      "metadata": {
        "id": "QTIg40edgNVf"
      },
      "outputs": [],
      "source": [
        "# 환경 준비\n",
        "import numpy as np\n",
        "from tensorflow.keras.models import Sequential\n",
        "from tensorflow.keras.layers import Dense"
      ]
    },
    {
      "cell_type": "code",
      "source": [
        "# 데이터\n",
        "x = np.array([[1,2,3,4,5,6],\n",
        "              [7,8,9,10,11,12]])\n",
        "y = np.array([1,2,3,4,5,6,])\n",
        "\n",
        "print(x.shape)\n",
        "print(y.shape)\n",
        "# x의 데이터의 형태의 변경이 필요\n",
        "\n",
        "x=x.T\n",
        "\n",
        "print(x.shape)\n",
        "# 적절한 데이터"
      ],
      "metadata": {
        "colab": {
          "base_uri": "https://localhost:8080/"
        },
        "id": "uu1Pj2tWghWj",
        "outputId": "6bcfa518-ed3b-4f8c-8ae0-a60bd2f0abbf"
      },
      "execution_count": 3,
      "outputs": [
        {
          "output_type": "stream",
          "name": "stdout",
          "text": [
            "(2, 6)\n",
            "(6,)\n",
            "(6, 2)\n"
          ]
        }
      ]
    },
    {
      "cell_type": "code",
      "source": [
        "# 모델 구성\n",
        "model = Sequential()\n",
        "model.add(Dense(100, input_dim=2))\n",
        "model.add(Dense(50))\n",
        "model.add(Dense(25))\n",
        "model.add(Dense(1))"
      ],
      "metadata": {
        "id": "VwzpEUrohJit"
      },
      "execution_count": 7,
      "outputs": []
    },
    {
      "cell_type": "code",
      "source": [
        "# 컴파일 및 훈련\n",
        "model.compile(loss ='mse', optimizer='adam')\n",
        "model.fit(x,y, epochs=100, batch_size=1)"
      ],
      "metadata": {
        "colab": {
          "base_uri": "https://localhost:8080/"
        },
        "id": "iT9BOEfxh4V3",
        "outputId": "6949625b-0a7a-4b81-a9ac-7192f1ca2fac"
      },
      "execution_count": 8,
      "outputs": [
        {
          "output_type": "stream",
          "name": "stdout",
          "text": [
            "Epoch 1/100\n",
            "6/6 [==============================] - 1s 3ms/step - loss: 15.9768\n",
            "Epoch 2/100\n",
            "6/6 [==============================] - 0s 3ms/step - loss: 7.3722\n",
            "Epoch 3/100\n",
            "6/6 [==============================] - 0s 2ms/step - loss: 1.8651\n",
            "Epoch 4/100\n",
            "6/6 [==============================] - 0s 2ms/step - loss: 3.6330\n",
            "Epoch 5/100\n",
            "6/6 [==============================] - 0s 3ms/step - loss: 1.2390\n",
            "Epoch 6/100\n",
            "6/6 [==============================] - 0s 2ms/step - loss: 1.4355\n",
            "Epoch 7/100\n",
            "6/6 [==============================] - 0s 2ms/step - loss: 0.6932\n",
            "Epoch 8/100\n",
            "6/6 [==============================] - 0s 2ms/step - loss: 0.4545\n",
            "Epoch 9/100\n",
            "6/6 [==============================] - 0s 2ms/step - loss: 0.3660\n",
            "Epoch 10/100\n",
            "6/6 [==============================] - 0s 2ms/step - loss: 0.1678\n",
            "Epoch 11/100\n",
            "6/6 [==============================] - 0s 2ms/step - loss: 0.2065\n",
            "Epoch 12/100\n",
            "6/6 [==============================] - 0s 2ms/step - loss: 0.1207\n",
            "Epoch 13/100\n",
            "6/6 [==============================] - 0s 3ms/step - loss: 0.0765\n",
            "Epoch 14/100\n",
            "6/6 [==============================] - 0s 3ms/step - loss: 0.0556\n",
            "Epoch 15/100\n",
            "6/6 [==============================] - 0s 3ms/step - loss: 0.0323\n",
            "Epoch 16/100\n",
            "6/6 [==============================] - 0s 2ms/step - loss: 0.0218\n",
            "Epoch 17/100\n",
            "6/6 [==============================] - 0s 2ms/step - loss: 0.0141\n",
            "Epoch 18/100\n",
            "6/6 [==============================] - 0s 2ms/step - loss: 0.0092\n",
            "Epoch 19/100\n",
            "6/6 [==============================] - 0s 3ms/step - loss: 0.0053\n",
            "Epoch 20/100\n",
            "6/6 [==============================] - 0s 3ms/step - loss: 0.0053\n",
            "Epoch 21/100\n",
            "6/6 [==============================] - 0s 3ms/step - loss: 0.0017\n",
            "Epoch 22/100\n",
            "6/6 [==============================] - 0s 2ms/step - loss: 0.0020\n",
            "Epoch 23/100\n",
            "6/6 [==============================] - 0s 2ms/step - loss: 7.9268e-04\n",
            "Epoch 24/100\n",
            "6/6 [==============================] - 0s 2ms/step - loss: 3.3196e-04\n",
            "Epoch 25/100\n",
            "6/6 [==============================] - 0s 2ms/step - loss: 2.2816e-04\n",
            "Epoch 26/100\n",
            "6/6 [==============================] - 0s 2ms/step - loss: 1.6874e-04\n",
            "Epoch 27/100\n",
            "6/6 [==============================] - 0s 3ms/step - loss: 2.7401e-05\n",
            "Epoch 28/100\n",
            "6/6 [==============================] - 0s 3ms/step - loss: 3.4503e-05\n",
            "Epoch 29/100\n",
            "6/6 [==============================] - 0s 3ms/step - loss: 2.7182e-05\n",
            "Epoch 30/100\n",
            "6/6 [==============================] - 0s 2ms/step - loss: 7.9023e-06\n",
            "Epoch 31/100\n",
            "6/6 [==============================] - 0s 3ms/step - loss: 1.2109e-05\n",
            "Epoch 32/100\n",
            "6/6 [==============================] - 0s 3ms/step - loss: 5.6212e-06\n",
            "Epoch 33/100\n",
            "6/6 [==============================] - 0s 3ms/step - loss: 5.0826e-06\n",
            "Epoch 34/100\n",
            "6/6 [==============================] - 0s 3ms/step - loss: 1.6785e-06\n",
            "Epoch 35/100\n",
            "6/6 [==============================] - 0s 3ms/step - loss: 1.1173e-06\n",
            "Epoch 36/100\n",
            "6/6 [==============================] - 0s 4ms/step - loss: 5.1452e-07\n",
            "Epoch 37/100\n",
            "6/6 [==============================] - 0s 3ms/step - loss: 4.6239e-07\n",
            "Epoch 38/100\n",
            "6/6 [==============================] - 0s 3ms/step - loss: 4.5118e-07\n",
            "Epoch 39/100\n",
            "6/6 [==============================] - 0s 3ms/step - loss: 1.4841e-07\n",
            "Epoch 40/100\n",
            "6/6 [==============================] - 0s 3ms/step - loss: 6.1800e-08\n",
            "Epoch 41/100\n",
            "6/6 [==============================] - 0s 5ms/step - loss: 3.2885e-08\n",
            "Epoch 42/100\n",
            "6/6 [==============================] - 0s 3ms/step - loss: 3.0998e-08\n",
            "Epoch 43/100\n",
            "6/6 [==============================] - 0s 3ms/step - loss: 1.6383e-08\n",
            "Epoch 44/100\n",
            "6/6 [==============================] - 0s 3ms/step - loss: 4.3371e-09\n",
            "Epoch 45/100\n",
            "6/6 [==============================] - 0s 3ms/step - loss: 3.1333e-09\n",
            "Epoch 46/100\n",
            "6/6 [==============================] - 0s 3ms/step - loss: 1.6631e-09\n",
            "Epoch 47/100\n",
            "6/6 [==============================] - 0s 3ms/step - loss: 8.7322e-10\n",
            "Epoch 48/100\n",
            "6/6 [==============================] - 0s 4ms/step - loss: 5.0874e-10\n",
            "Epoch 49/100\n",
            "6/6 [==============================] - 0s 3ms/step - loss: 6.0543e-10\n",
            "Epoch 50/100\n",
            "6/6 [==============================] - 0s 3ms/step - loss: 2.7795e-10\n",
            "Epoch 51/100\n",
            "6/6 [==============================] - 0s 3ms/step - loss: 3.0968e-10\n",
            "Epoch 52/100\n",
            "6/6 [==============================] - 0s 3ms/step - loss: 1.1848e-10\n",
            "Epoch 53/100\n",
            "6/6 [==============================] - 0s 3ms/step - loss: 2.9871e-11\n",
            "Epoch 54/100\n",
            "6/6 [==============================] - 0s 5ms/step - loss: 2.0346e-11\n",
            "Epoch 55/100\n",
            "6/6 [==============================] - 0s 4ms/step - loss: 4.8891e-12\n",
            "Epoch 56/100\n",
            "6/6 [==============================] - 0s 4ms/step - loss: 2.7196e-12\n",
            "Epoch 57/100\n",
            "6/6 [==============================] - 0s 4ms/step - loss: 1.4004e-12\n",
            "Epoch 58/100\n",
            "6/6 [==============================] - 0s 4ms/step - loss: 1.3530e-12\n",
            "Epoch 59/100\n",
            "6/6 [==============================] - 0s 5ms/step - loss: 1.1416e-12\n",
            "Epoch 60/100\n",
            "6/6 [==============================] - 0s 6ms/step - loss: 3.4343e-13\n",
            "Epoch 61/100\n",
            "6/6 [==============================] - 0s 5ms/step - loss: 1.1588e-12\n",
            "Epoch 62/100\n",
            "6/6 [==============================] - 0s 5ms/step - loss: 7.2949e-13\n",
            "Epoch 63/100\n",
            "6/6 [==============================] - 0s 4ms/step - loss: 6.1817e-13\n",
            "Epoch 64/100\n",
            "6/6 [==============================] - 0s 4ms/step - loss: 6.8449e-13\n",
            "Epoch 65/100\n",
            "6/6 [==============================] - 0s 4ms/step - loss: 5.0745e-13\n",
            "Epoch 66/100\n",
            "6/6 [==============================] - 0s 5ms/step - loss: 5.0981e-13\n",
            "Epoch 67/100\n",
            "6/6 [==============================] - 0s 4ms/step - loss: 8.4555e-13\n",
            "Epoch 68/100\n",
            "6/6 [==============================] - 0s 3ms/step - loss: 4.0975e-13\n",
            "Epoch 69/100\n",
            "6/6 [==============================] - 0s 4ms/step - loss: 9.2430e-13\n",
            "Epoch 70/100\n",
            "6/6 [==============================] - 0s 3ms/step - loss: 3.7955e-13\n",
            "Epoch 71/100\n",
            "6/6 [==============================] - 0s 4ms/step - loss: 3.7955e-13\n",
            "Epoch 72/100\n",
            "6/6 [==============================] - 0s 3ms/step - loss: 3.7896e-13\n",
            "Epoch 73/100\n",
            "6/6 [==============================] - 0s 3ms/step - loss: 4.2159e-13\n",
            "Epoch 74/100\n",
            "6/6 [==============================] - 0s 3ms/step - loss: 4.7666e-13\n",
            "Epoch 75/100\n",
            "6/6 [==============================] - 0s 3ms/step - loss: 4.1034e-13\n",
            "Epoch 76/100\n",
            "6/6 [==============================] - 0s 4ms/step - loss: 6.1640e-13\n",
            "Epoch 77/100\n",
            "6/6 [==============================] - 0s 3ms/step - loss: 6.6613e-13\n",
            "Epoch 78/100\n",
            "6/6 [==============================] - 0s 4ms/step - loss: 6.6613e-13\n",
            "Epoch 79/100\n",
            "6/6 [==============================] - 0s 3ms/step - loss: 5.8797e-13\n",
            "Epoch 80/100\n",
            "6/6 [==============================] - 0s 3ms/step - loss: 5.2403e-13\n",
            "Epoch 81/100\n",
            "6/6 [==============================] - 0s 3ms/step - loss: 3.8132e-13\n",
            "Epoch 82/100\n",
            "6/6 [==============================] - 0s 3ms/step - loss: 3.5290e-13\n",
            "Epoch 83/100\n",
            "6/6 [==============================] - 0s 4ms/step - loss: 3.9317e-13\n",
            "Epoch 84/100\n",
            "6/6 [==============================] - 0s 3ms/step - loss: 4.3106e-13\n",
            "Epoch 85/100\n",
            "6/6 [==============================] - 0s 4ms/step - loss: 2.8659e-13\n",
            "Epoch 86/100\n",
            "6/6 [==============================] - 0s 3ms/step - loss: 1.8000e-13\n",
            "Epoch 87/100\n",
            "6/6 [==============================] - 0s 3ms/step - loss: 2.1790e-13\n",
            "Epoch 88/100\n",
            "6/6 [==============================] - 0s 3ms/step - loss: 4.5712e-13\n",
            "Epoch 89/100\n",
            "6/6 [==============================] - 0s 3ms/step - loss: 4.5712e-13\n",
            "Epoch 90/100\n",
            "6/6 [==============================] - 0s 3ms/step - loss: 3.7185e-13\n",
            "Epoch 91/100\n",
            "6/6 [==============================] - 0s 4ms/step - loss: 4.8791e-13\n",
            "Epoch 92/100\n",
            "6/6 [==============================] - 0s 3ms/step - loss: 4.0264e-13\n",
            "Epoch 93/100\n",
            "6/6 [==============================] - 0s 3ms/step - loss: 3.7185e-13\n",
            "Epoch 94/100\n",
            "6/6 [==============================] - 0s 3ms/step - loss: 2.4632e-13\n",
            "Epoch 95/100\n",
            "6/6 [==============================] - 0s 3ms/step - loss: 3.5290e-13\n",
            "Epoch 96/100\n",
            "6/6 [==============================] - 0s 3ms/step - loss: 4.0264e-13\n",
            "Epoch 97/100\n",
            "6/6 [==============================] - 0s 3ms/step - loss: 4.3106e-13\n",
            "Epoch 98/100\n",
            "6/6 [==============================] - 0s 4ms/step - loss: 2.1790e-13\n",
            "Epoch 99/100\n",
            "6/6 [==============================] - 0s 5ms/step - loss: 2.0369e-13\n",
            "Epoch 100/100\n",
            "6/6 [==============================] - 0s 4ms/step - loss: 5.3528e-13\n"
          ]
        },
        {
          "output_type": "execute_result",
          "data": {
            "text/plain": [
              "<keras.src.callbacks.History at 0x7d079e6e9870>"
            ]
          },
          "metadata": {},
          "execution_count": 8
        }
      ]
    },
    {
      "cell_type": "code",
      "source": [
        "# 예측 및 출력\n",
        "loss = model.evaluate(x,y)\n",
        "result= model.predict([[7,12]]) # x에 하나의 행을 추가했을 경우, 예측되는 y의 값\n",
        "\n",
        "print(loss)\n",
        "print(result)\n",
        "\"\"\"\n",
        "단층 레이어, 에포100, 배치사이즈1\n",
        "9.246500968933105\n",
        "[[0.26650053]]\n",
        "\"\"\"\n",
        "\"\"\"\n",
        "다층 레이어, 에포100, 배치사이즈1\n",
        "9.246500968933105\n",
        "[[0.26650053]]\n",
        "\"\"\""
      ],
      "metadata": {
        "colab": {
          "base_uri": "https://localhost:8080/",
          "height": 109
        },
        "id": "DylYThzRiGT0",
        "outputId": "24e71238-f986-4e36-b24e-2c8d79b7660a"
      },
      "execution_count": 9,
      "outputs": [
        {
          "output_type": "stream",
          "name": "stdout",
          "text": [
            "1/1 [==============================] - 0s 121ms/step - loss: 4.4764e-13\n",
            "1/1 [==============================] - 0s 75ms/step\n",
            "4.476419235288631e-13\n",
            "[[7.0002193]]\n"
          ]
        },
        {
          "output_type": "execute_result",
          "data": {
            "text/plain": [
              "'\\n단층 레이어, 에포100, 배치사이즈1\\n9.246500968933105\\n[[0.26650053]]\\n'"
            ],
            "application/vnd.google.colaboratory.intrinsic+json": {
              "type": "string"
            }
          },
          "metadata": {},
          "execution_count": 9
        }
      ]
    }
  ]
}
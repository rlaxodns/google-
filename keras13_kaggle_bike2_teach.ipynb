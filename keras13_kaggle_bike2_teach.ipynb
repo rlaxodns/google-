{
  "nbformat": 4,
  "nbformat_minor": 0,
  "metadata": {
    "colab": {
      "provenance": [],
      "machine_shape": "hm",
      "authorship_tag": "ABX9TyNlNyuBMkXvfN5pKPZdcuZJ",
      "include_colab_link": true
    },
    "kernelspec": {
      "name": "python3",
      "display_name": "Python 3"
    },
    "language_info": {
      "name": "python"
    }
  },
  "cells": [
    {
      "cell_type": "markdown",
      "metadata": {
        "id": "view-in-github",
        "colab_type": "text"
      },
      "source": [
        "<a href=\"https://colab.research.google.com/github/rlaxodns/google-/blob/main/keras13_kaggle_bike2_teach.ipynb\" target=\"_parent\"><img src=\"https://colab.research.google.com/assets/colab-badge.svg\" alt=\"Open In Colab\"/></a>"
      ]
    },
    {
      "cell_type": "code",
      "execution_count": 1,
      "metadata": {
        "id": "xiVPgHyVLZRG",
        "colab": {
          "base_uri": "https://localhost:8080/",
          "height": 148
        },
        "outputId": "97980c1a-d56e-473b-e1b8-512a24352d92"
      },
      "outputs": [
        {
          "output_type": "display_data",
          "data": {
            "text/plain": [
              "<IPython.core.display.HTML object>"
            ],
            "text/html": [
              "\n",
              "     <input type=\"file\" id=\"files-4948eef6-07be-4615-9bc4-16c09e90f275\" name=\"files[]\" multiple disabled\n",
              "        style=\"border:none\" />\n",
              "     <output id=\"result-4948eef6-07be-4615-9bc4-16c09e90f275\">\n",
              "      Upload widget is only available when the cell has been executed in the\n",
              "      current browser session. Please rerun this cell to enable.\n",
              "      </output>\n",
              "      <script>// Copyright 2017 Google LLC\n",
              "//\n",
              "// Licensed under the Apache License, Version 2.0 (the \"License\");\n",
              "// you may not use this file except in compliance with the License.\n",
              "// You may obtain a copy of the License at\n",
              "//\n",
              "//      http://www.apache.org/licenses/LICENSE-2.0\n",
              "//\n",
              "// Unless required by applicable law or agreed to in writing, software\n",
              "// distributed under the License is distributed on an \"AS IS\" BASIS,\n",
              "// WITHOUT WARRANTIES OR CONDITIONS OF ANY KIND, either express or implied.\n",
              "// See the License for the specific language governing permissions and\n",
              "// limitations under the License.\n",
              "\n",
              "/**\n",
              " * @fileoverview Helpers for google.colab Python module.\n",
              " */\n",
              "(function(scope) {\n",
              "function span(text, styleAttributes = {}) {\n",
              "  const element = document.createElement('span');\n",
              "  element.textContent = text;\n",
              "  for (const key of Object.keys(styleAttributes)) {\n",
              "    element.style[key] = styleAttributes[key];\n",
              "  }\n",
              "  return element;\n",
              "}\n",
              "\n",
              "// Max number of bytes which will be uploaded at a time.\n",
              "const MAX_PAYLOAD_SIZE = 100 * 1024;\n",
              "\n",
              "function _uploadFiles(inputId, outputId) {\n",
              "  const steps = uploadFilesStep(inputId, outputId);\n",
              "  const outputElement = document.getElementById(outputId);\n",
              "  // Cache steps on the outputElement to make it available for the next call\n",
              "  // to uploadFilesContinue from Python.\n",
              "  outputElement.steps = steps;\n",
              "\n",
              "  return _uploadFilesContinue(outputId);\n",
              "}\n",
              "\n",
              "// This is roughly an async generator (not supported in the browser yet),\n",
              "// where there are multiple asynchronous steps and the Python side is going\n",
              "// to poll for completion of each step.\n",
              "// This uses a Promise to block the python side on completion of each step,\n",
              "// then passes the result of the previous step as the input to the next step.\n",
              "function _uploadFilesContinue(outputId) {\n",
              "  const outputElement = document.getElementById(outputId);\n",
              "  const steps = outputElement.steps;\n",
              "\n",
              "  const next = steps.next(outputElement.lastPromiseValue);\n",
              "  return Promise.resolve(next.value.promise).then((value) => {\n",
              "    // Cache the last promise value to make it available to the next\n",
              "    // step of the generator.\n",
              "    outputElement.lastPromiseValue = value;\n",
              "    return next.value.response;\n",
              "  });\n",
              "}\n",
              "\n",
              "/**\n",
              " * Generator function which is called between each async step of the upload\n",
              " * process.\n",
              " * @param {string} inputId Element ID of the input file picker element.\n",
              " * @param {string} outputId Element ID of the output display.\n",
              " * @return {!Iterable<!Object>} Iterable of next steps.\n",
              " */\n",
              "function* uploadFilesStep(inputId, outputId) {\n",
              "  const inputElement = document.getElementById(inputId);\n",
              "  inputElement.disabled = false;\n",
              "\n",
              "  const outputElement = document.getElementById(outputId);\n",
              "  outputElement.innerHTML = '';\n",
              "\n",
              "  const pickedPromise = new Promise((resolve) => {\n",
              "    inputElement.addEventListener('change', (e) => {\n",
              "      resolve(e.target.files);\n",
              "    });\n",
              "  });\n",
              "\n",
              "  const cancel = document.createElement('button');\n",
              "  inputElement.parentElement.appendChild(cancel);\n",
              "  cancel.textContent = 'Cancel upload';\n",
              "  const cancelPromise = new Promise((resolve) => {\n",
              "    cancel.onclick = () => {\n",
              "      resolve(null);\n",
              "    };\n",
              "  });\n",
              "\n",
              "  // Wait for the user to pick the files.\n",
              "  const files = yield {\n",
              "    promise: Promise.race([pickedPromise, cancelPromise]),\n",
              "    response: {\n",
              "      action: 'starting',\n",
              "    }\n",
              "  };\n",
              "\n",
              "  cancel.remove();\n",
              "\n",
              "  // Disable the input element since further picks are not allowed.\n",
              "  inputElement.disabled = true;\n",
              "\n",
              "  if (!files) {\n",
              "    return {\n",
              "      response: {\n",
              "        action: 'complete',\n",
              "      }\n",
              "    };\n",
              "  }\n",
              "\n",
              "  for (const file of files) {\n",
              "    const li = document.createElement('li');\n",
              "    li.append(span(file.name, {fontWeight: 'bold'}));\n",
              "    li.append(span(\n",
              "        `(${file.type || 'n/a'}) - ${file.size} bytes, ` +\n",
              "        `last modified: ${\n",
              "            file.lastModifiedDate ? file.lastModifiedDate.toLocaleDateString() :\n",
              "                                    'n/a'} - `));\n",
              "    const percent = span('0% done');\n",
              "    li.appendChild(percent);\n",
              "\n",
              "    outputElement.appendChild(li);\n",
              "\n",
              "    const fileDataPromise = new Promise((resolve) => {\n",
              "      const reader = new FileReader();\n",
              "      reader.onload = (e) => {\n",
              "        resolve(e.target.result);\n",
              "      };\n",
              "      reader.readAsArrayBuffer(file);\n",
              "    });\n",
              "    // Wait for the data to be ready.\n",
              "    let fileData = yield {\n",
              "      promise: fileDataPromise,\n",
              "      response: {\n",
              "        action: 'continue',\n",
              "      }\n",
              "    };\n",
              "\n",
              "    // Use a chunked sending to avoid message size limits. See b/62115660.\n",
              "    let position = 0;\n",
              "    do {\n",
              "      const length = Math.min(fileData.byteLength - position, MAX_PAYLOAD_SIZE);\n",
              "      const chunk = new Uint8Array(fileData, position, length);\n",
              "      position += length;\n",
              "\n",
              "      const base64 = btoa(String.fromCharCode.apply(null, chunk));\n",
              "      yield {\n",
              "        response: {\n",
              "          action: 'append',\n",
              "          file: file.name,\n",
              "          data: base64,\n",
              "        },\n",
              "      };\n",
              "\n",
              "      let percentDone = fileData.byteLength === 0 ?\n",
              "          100 :\n",
              "          Math.round((position / fileData.byteLength) * 100);\n",
              "      percent.textContent = `${percentDone}% done`;\n",
              "\n",
              "    } while (position < fileData.byteLength);\n",
              "  }\n",
              "\n",
              "  // All done.\n",
              "  yield {\n",
              "    response: {\n",
              "      action: 'complete',\n",
              "    }\n",
              "  };\n",
              "}\n",
              "\n",
              "scope.google = scope.google || {};\n",
              "scope.google.colab = scope.google.colab || {};\n",
              "scope.google.colab._files = {\n",
              "  _uploadFiles,\n",
              "  _uploadFilesContinue,\n",
              "};\n",
              "})(self);\n",
              "</script> "
            ]
          },
          "metadata": {}
        },
        {
          "output_type": "stream",
          "name": "stdout",
          "text": [
            "Saving sampleSubmission.csv to sampleSubmission (3).csv\n",
            "Saving test.csv to test (3).csv\n",
            "Saving train.csv to train (3).csv\n"
          ]
        }
      ],
      "source": [
        "from google.colab import files\n",
        "uploaded = files.upload()"
      ]
    },
    {
      "cell_type": "code",
      "source": [
        "#0. 라이브러리 불러오기\n",
        "import pandas as pd\n",
        "import numpy as np\n",
        "from keras.models import Sequential\n",
        "from keras.layers import Dense\n",
        "from sklearn.model_selection import train_test_split\n",
        "from sklearn.metrics import r2_score"
      ],
      "metadata": {
        "id": "T9U5QOHpOSYs"
      },
      "execution_count": 2,
      "outputs": []
    },
    {
      "cell_type": "code",
      "source": [
        "#1. 파일불러오기\n",
        "train_csv = pd.read_csv('/content/train.csv', index_col=0)\n",
        "test_csv = pd.read_csv('/content/test.csv', index_col=0)\n",
        "sample_csv = pd.read_csv('/content/sampleSubmission.csv', index_col=0)"
      ],
      "metadata": {
        "id": "60AxmT3APMTw"
      },
      "execution_count": 3,
      "outputs": []
    },
    {
      "cell_type": "code",
      "source": [
        "## 데이터 전처리\n",
        "print(train_csv.info())\n",
        "print(test_csv.info())\n",
        "print(sample_csv.info())\n",
        "\n",
        "print(test_csv)"
      ],
      "metadata": {
        "colab": {
          "base_uri": "https://localhost:8080/"
        },
        "id": "CdmbVLMbP3P2",
        "outputId": "2b0d1890-1d9d-4516-931d-8995783574ad"
      },
      "execution_count": 4,
      "outputs": [
        {
          "output_type": "stream",
          "name": "stdout",
          "text": [
            "<class 'pandas.core.frame.DataFrame'>\n",
            "Index: 10886 entries, 2011-01-01 00:00:00 to 2012-12-19 23:00:00\n",
            "Data columns (total 11 columns):\n",
            " #   Column      Non-Null Count  Dtype  \n",
            "---  ------      --------------  -----  \n",
            " 0   season      10886 non-null  int64  \n",
            " 1   holiday     10886 non-null  int64  \n",
            " 2   workingday  10886 non-null  int64  \n",
            " 3   weather     10886 non-null  int64  \n",
            " 4   temp        10886 non-null  float64\n",
            " 5   atemp       10886 non-null  float64\n",
            " 6   humidity    10886 non-null  int64  \n",
            " 7   windspeed   10886 non-null  float64\n",
            " 8   casual      10886 non-null  int64  \n",
            " 9   registered  10886 non-null  int64  \n",
            " 10  count       10886 non-null  int64  \n",
            "dtypes: float64(3), int64(8)\n",
            "memory usage: 1020.6+ KB\n",
            "None\n",
            "<class 'pandas.core.frame.DataFrame'>\n",
            "Index: 6493 entries, 2011-01-20 00:00:00 to 2012-12-31 23:00:00\n",
            "Data columns (total 8 columns):\n",
            " #   Column      Non-Null Count  Dtype  \n",
            "---  ------      --------------  -----  \n",
            " 0   season      6493 non-null   int64  \n",
            " 1   holiday     6493 non-null   int64  \n",
            " 2   workingday  6493 non-null   int64  \n",
            " 3   weather     6493 non-null   int64  \n",
            " 4   temp        6493 non-null   float64\n",
            " 5   atemp       6493 non-null   float64\n",
            " 6   humidity    6493 non-null   int64  \n",
            " 7   windspeed   6493 non-null   float64\n",
            "dtypes: float64(3), int64(5)\n",
            "memory usage: 456.5+ KB\n",
            "None\n",
            "<class 'pandas.core.frame.DataFrame'>\n",
            "Index: 6493 entries, 2011-01-20 00:00:00 to 2012-12-31 23:00:00\n",
            "Data columns (total 1 columns):\n",
            " #   Column  Non-Null Count  Dtype\n",
            "---  ------  --------------  -----\n",
            " 0   count   6493 non-null   int64\n",
            "dtypes: int64(1)\n",
            "memory usage: 101.5+ KB\n",
            "None\n",
            "                     season  holiday  workingday  weather   temp   atemp  \\\n",
            "datetime                                                                   \n",
            "2011-01-20 00:00:00       1        0           1        1  10.66  11.365   \n",
            "2011-01-20 01:00:00       1        0           1        1  10.66  13.635   \n",
            "2011-01-20 02:00:00       1        0           1        1  10.66  13.635   \n",
            "2011-01-20 03:00:00       1        0           1        1  10.66  12.880   \n",
            "2011-01-20 04:00:00       1        0           1        1  10.66  12.880   \n",
            "...                     ...      ...         ...      ...    ...     ...   \n",
            "2012-12-31 19:00:00       1        0           1        2  10.66  12.880   \n",
            "2012-12-31 20:00:00       1        0           1        2  10.66  12.880   \n",
            "2012-12-31 21:00:00       1        0           1        1  10.66  12.880   \n",
            "2012-12-31 22:00:00       1        0           1        1  10.66  13.635   \n",
            "2012-12-31 23:00:00       1        0           1        1  10.66  13.635   \n",
            "\n",
            "                     humidity  windspeed  \n",
            "datetime                                  \n",
            "2011-01-20 00:00:00        56    26.0027  \n",
            "2011-01-20 01:00:00        56     0.0000  \n",
            "2011-01-20 02:00:00        56     0.0000  \n",
            "2011-01-20 03:00:00        56    11.0014  \n",
            "2011-01-20 04:00:00        56    11.0014  \n",
            "...                       ...        ...  \n",
            "2012-12-31 19:00:00        60    11.0014  \n",
            "2012-12-31 20:00:00        60    11.0014  \n",
            "2012-12-31 21:00:00        60    11.0014  \n",
            "2012-12-31 22:00:00        56     8.9981  \n",
            "2012-12-31 23:00:00        65     8.9981  \n",
            "\n",
            "[6493 rows x 8 columns]\n"
          ]
        }
      ]
    },
    {
      "cell_type": "code",
      "source": [
        "# train의 결과를 바탕으로 test의 casual과 registered를 예측\n",
        "x = train_csv.drop(['casual', 'registered', 'count'], axis=1)\n",
        "y = train_csv[['casual', 'registered']]\n",
        "\n",
        "print(x.shape)\n",
        "print(y.shape)\n",
        "\n",
        "print(x.dtypes)\n",
        "print(\"_______\")\n",
        "print(y.dtypes)"
      ],
      "metadata": {
        "colab": {
          "base_uri": "https://localhost:8080/"
        },
        "id": "MLi25T4uQinM",
        "outputId": "86581630-2572-4e5c-efd5-2b9812c42323"
      },
      "execution_count": 5,
      "outputs": [
        {
          "output_type": "stream",
          "name": "stdout",
          "text": [
            "(10886, 8)\n",
            "(10886, 2)\n",
            "season          int64\n",
            "holiday         int64\n",
            "workingday      int64\n",
            "weather         int64\n",
            "temp          float64\n",
            "atemp         float64\n",
            "humidity        int64\n",
            "windspeed     float64\n",
            "dtype: object\n",
            "_______\n",
            "casual        int64\n",
            "registered    int64\n",
            "dtype: object\n"
          ]
        }
      ]
    },
    {
      "cell_type": "code",
      "source": [
        "# train 데이터와 test 데이터로 분할\n",
        "x_train, x_test, y_train, y_test = train_test_split(x, y,\n",
        "                        test_size=0.2, random_state=10)"
      ],
      "metadata": {
        "id": "tTapkCAERNmU"
      },
      "execution_count": 6,
      "outputs": []
    },
    {
      "cell_type": "code",
      "source": [
        "#2. 모델 구성\n",
        "model = Sequential()\n",
        "model.add(Dense(123, activation = 'relu', input_dim=8))\n",
        "model.add(Dense(61, activation = 'relu'))\n",
        "model.add(Dense(2, activation = 'linear'))"
      ],
      "metadata": {
        "id": "KkqxmWxKRo1f"
      },
      "execution_count": 7,
      "outputs": []
    },
    {
      "cell_type": "code",
      "source": [
        "#3. 컴파일 및 훈련\n",
        "model.compile(loss = 'mse', optimizer = 'adam')\n",
        "model.fit(x_train, y_train, epochs = 100, batch_size = 10,\n",
        "          validation_split = 0.2, verbose = 0)"
      ],
      "metadata": {
        "colab": {
          "base_uri": "https://localhost:8080/"
        },
        "id": "x4MdQa6xR9c8",
        "outputId": "cd0c9dc2-03f1-48c8-94b5-22d8c1dabebd"
      },
      "execution_count": 8,
      "outputs": [
        {
          "output_type": "execute_result",
          "data": {
            "text/plain": [
              "<keras.src.callbacks.History at 0x7a0e636994e0>"
            ]
          },
          "metadata": {},
          "execution_count": 8
        }
      ]
    },
    {
      "cell_type": "code",
      "source": [
        "#4. 평가 및 예측\n",
        "loss = model.evaluate(x_test, y_test)\n",
        "result = model.predict(test_csv)\n",
        "y_pre = model.predict(x_test)\n",
        "\n",
        "r2 = r2_score(y_test, y_pre)\n",
        "\n",
        "test_csv[['casual', 'registered']] = result\n",
        "print(test_csv)"
      ],
      "metadata": {
        "colab": {
          "base_uri": "https://localhost:8080/"
        },
        "id": "p_1Bo1oyTHPI",
        "outputId": "aed014f3-a3dd-438e-b696-598913e80e74"
      },
      "execution_count": 9,
      "outputs": [
        {
          "output_type": "stream",
          "name": "stdout",
          "text": [
            "69/69 [==============================] - 0s 2ms/step - loss: 9903.0771\n",
            "203/203 [==============================] - 0s 1ms/step\n",
            "69/69 [==============================] - 0s 1ms/step\n",
            "                     season  holiday  workingday  weather   temp   atemp  \\\n",
            "datetime                                                                   \n",
            "2011-01-20 00:00:00       1        0           1        1  10.66  11.365   \n",
            "2011-01-20 01:00:00       1        0           1        1  10.66  13.635   \n",
            "2011-01-20 02:00:00       1        0           1        1  10.66  13.635   \n",
            "2011-01-20 03:00:00       1        0           1        1  10.66  12.880   \n",
            "2011-01-20 04:00:00       1        0           1        1  10.66  12.880   \n",
            "...                     ...      ...         ...      ...    ...     ...   \n",
            "2012-12-31 19:00:00       1        0           1        2  10.66  12.880   \n",
            "2012-12-31 20:00:00       1        0           1        2  10.66  12.880   \n",
            "2012-12-31 21:00:00       1        0           1        1  10.66  12.880   \n",
            "2012-12-31 22:00:00       1        0           1        1  10.66  13.635   \n",
            "2012-12-31 23:00:00       1        0           1        1  10.66  13.635   \n",
            "\n",
            "                     humidity  windspeed    casual  registered  \n",
            "datetime                                                        \n",
            "2011-01-20 00:00:00        56    26.0027  3.794963   75.457993  \n",
            "2011-01-20 01:00:00        56     0.0000  2.912246   79.154449  \n",
            "2011-01-20 02:00:00        56     0.0000  2.912246   79.154449  \n",
            "2011-01-20 03:00:00        56    11.0014  1.907457   80.437630  \n",
            "2011-01-20 04:00:00        56    11.0014  1.907457   80.437630  \n",
            "...                       ...        ...       ...         ...  \n",
            "2012-12-31 19:00:00        60    11.0014  2.583171   71.971016  \n",
            "2012-12-31 20:00:00        60    11.0014  2.583171   71.971016  \n",
            "2012-12-31 21:00:00        60    11.0014  2.127721   81.389008  \n",
            "2012-12-31 22:00:00        56     8.9981  2.082675   82.760147  \n",
            "2012-12-31 23:00:00        65     8.9981  2.346712   83.681831  \n",
            "\n",
            "[6493 rows x 10 columns]\n"
          ]
        }
      ]
    },
    {
      "cell_type": "code",
      "source": [
        "# test 데이터의 casual과 registered을 통해서 count 예측\n",
        "x2 = train_csv.drop(['count'], axis=1)\n",
        "y2 = train_csv['count']\n",
        "\n",
        "print(x2.shape)\n",
        "print(y2.shape)\n",
        "\n",
        "print(x2.dtypes)\n",
        "print(\"_______\")\n",
        "print(y2.dtypes)"
      ],
      "metadata": {
        "colab": {
          "base_uri": "https://localhost:8080/"
        },
        "id": "21ROiHgwWxpv",
        "outputId": "6a224ac8-36b2-48ce-d569-8e72189c6d33"
      },
      "execution_count": 10,
      "outputs": [
        {
          "output_type": "stream",
          "name": "stdout",
          "text": [
            "(10886, 10)\n",
            "(10886,)\n",
            "season          int64\n",
            "holiday         int64\n",
            "workingday      int64\n",
            "weather         int64\n",
            "temp          float64\n",
            "atemp         float64\n",
            "humidity        int64\n",
            "windspeed     float64\n",
            "casual          int64\n",
            "registered      int64\n",
            "dtype: object\n",
            "_______\n",
            "int64\n"
          ]
        }
      ]
    },
    {
      "cell_type": "code",
      "source": [
        "# x와 y 분할\n",
        "x2_train, x2_test, y2_train, y2_test = train_test_split(x2, y2,\n",
        "                      test_size = 0.2, random_state=10)"
      ],
      "metadata": {
        "id": "PD-iUq4XT1ah"
      },
      "execution_count": 11,
      "outputs": []
    },
    {
      "cell_type": "code",
      "source": [
        "#모델 구성\n",
        "model = Sequential()\n",
        "model.add(Dense(123, activation = 'relu', input_dim=10))\n",
        "model.add(Dense(61, activation = 'relu'))\n",
        "model.add(Dense(1, activation = 'linear'))"
      ],
      "metadata": {
        "id": "Ko98OrSUXkqB"
      },
      "execution_count": 12,
      "outputs": []
    },
    {
      "cell_type": "code",
      "source": [
        "# 컴파일 및 훈련\n",
        "model.compile(loss = 'mse', optimizer = 'adam')\n",
        "model.fit(x2_train, y2_train, epochs = 100, batch_size=16,\n",
        "          validation_split = 0.2, verbose = 0)"
      ],
      "metadata": {
        "colab": {
          "base_uri": "https://localhost:8080/"
        },
        "id": "vEF8EGXuXrSh",
        "outputId": "616f9c4e-9384-48df-c5e1-3cf931dac547"
      },
      "execution_count": 13,
      "outputs": [
        {
          "output_type": "execute_result",
          "data": {
            "text/plain": [
              "<keras.src.callbacks.History at 0x7a0e5854a1a0>"
            ]
          },
          "metadata": {},
          "execution_count": 13
        }
      ]
    },
    {
      "cell_type": "code",
      "source": [
        "# 평가 및 예측\n",
        "loss = model.evaluate(x2_test, y2_test)\n",
        "result = model.predict(test_csv)\n",
        "y_pre = model.predict(x2_test)\n",
        "\n",
        "r2 = r2_score(y2_test, y_pre)\n",
        "\n",
        "sample_csv['count'] = result\n",
        "print(sample_csv)"
      ],
      "metadata": {
        "colab": {
          "base_uri": "https://localhost:8080/"
        },
        "id": "eNdOq1cQYOUf",
        "outputId": "7091f9e9-a0b9-434d-a4d6-6e66a5adf9c3"
      },
      "execution_count": 14,
      "outputs": [
        {
          "output_type": "stream",
          "name": "stdout",
          "text": [
            "69/69 [==============================] - 0s 1ms/step - loss: 0.0049\n",
            "203/203 [==============================] - 0s 1ms/step\n",
            "69/69 [==============================] - 0s 1ms/step\n",
            "                         count\n",
            "datetime                      \n",
            "2011-01-20 00:00:00  79.185966\n",
            "2011-01-20 01:00:00  82.055634\n",
            "2011-01-20 02:00:00  82.055634\n",
            "2011-01-20 03:00:00  82.309654\n",
            "2011-01-20 04:00:00  82.309654\n",
            "...                        ...\n",
            "2012-12-31 19:00:00  74.522461\n",
            "2012-12-31 20:00:00  74.522461\n",
            "2012-12-31 21:00:00  83.483955\n",
            "2012-12-31 22:00:00  84.812546\n",
            "2012-12-31 23:00:00  85.996758\n",
            "\n",
            "[6493 rows x 1 columns]\n"
          ]
        }
      ]
    },
    {
      "cell_type": "code",
      "source": [
        "# 파일 출력\n",
        "sample_csv.to_csv('/content/sampleSubmission_colab_1.csv')"
      ],
      "metadata": {
        "id": "mrHoQEkLZzfi"
      },
      "execution_count": 16,
      "outputs": []
    }
  ]
}
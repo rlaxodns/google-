{
  "nbformat": 4,
  "nbformat_minor": 0,
  "metadata": {
    "colab": {
      "provenance": [],
      "authorship_tag": "ABX9TyMGXtRqYuXd4aEHcAwgmP2M",
      "include_colab_link": true
    },
    "kernelspec": {
      "name": "python3",
      "display_name": "Python 3"
    },
    "language_info": {
      "name": "python"
    }
  },
  "cells": [
    {
      "cell_type": "markdown",
      "metadata": {
        "id": "view-in-github",
        "colab_type": "text"
      },
      "source": [
        "<a href=\"https://colab.research.google.com/github/rlaxodns/google-/blob/main/keras08_train_test1.ipynb\" target=\"_parent\"><img src=\"https://colab.research.google.com/assets/colab-badge.svg\" alt=\"Open In Colab\"/></a>"
      ]
    },
    {
      "cell_type": "markdown",
      "source": [
        "# 훈련데이터와 평가 데이터의 분할\n",
        "## 지금까지 만든 코드들의 문제점\n",
        "## loss를 평가하는 평가의 문제가 존재\n",
        "데이터를 평가할 때는 loss값이 크냐 작냐를 통해 평가를 함  \n",
        "현재의 경우에는 x와 y로 평가하는 것이 문제가 된다.  \n",
        "왜냐하면 훈련하는 데이터를 통해서 평가하기 때문에 '과적합'의 문제가 발생한다.  \n",
        "\n",
        "'과적합'이란, 테스트 데이터와 평가 데이터가 동일하기 때문에 더이상의 오차값이 갱신되지 않는 문제가 발생한다.  \n",
        "데이터가 많아지거나, 데이터가 너무 정제된 경우에 있어서 과적합으로 인해서 제대로 된 답을 찾기 어려움이 존재한다.\n",
        "\n",
        "이를 평가함에 있어 accuracy(=정확도)를 통해서 검증이 가능하다  \n",
        "과적합 문제에서는 훈련 데이터를 통해서 같은 평가를 할 경우에는 실제적으로 정확이 높다고 할 수 없다.  \n",
        "이러한 문제를 해결하기 위해서 데이터를 테스트 데이터와 평가 데이터로 분할하여 진행한다."
      ],
      "metadata": {
        "id": "qa33wg-YhhQb"
      }
    },
    {
      "cell_type": "code",
      "execution_count": 1,
      "metadata": {
        "id": "k6GmBIxshfkC"
      },
      "outputs": [],
      "source": [
        "import numpy as np\n",
        "from keras.models import Sequential\n",
        "from keras.layers import Dense"
      ]
    },
    {
      "cell_type": "code",
      "source": [
        "# 원데이터\n",
        "x = np.array([1,2,3,4,5,6,7,8,9,10])\n",
        "y = np.array([1,2,3,4,5,6,7,8,9,10])\n",
        "\n",
        "# 훈련데이터와 평가데이터로 분할\n",
        "x_train = np.array([1,2,3,4,5,6,7])\n",
        "x_test = np.array([8,9,10])\n",
        "\n",
        "y_train = np.array([1,2,3,4,5,6,7])\n",
        "y_test = np.array([8,9,10])"
      ],
      "metadata": {
        "id": "SGi5cBMUhird"
      },
      "execution_count": 2,
      "outputs": []
    },
    {
      "cell_type": "code",
      "source": [
        "# 모델 구성\n",
        "model = Sequential()\n",
        "model.add(Dense(1, input_dim=1))\n"
      ],
      "metadata": {
        "id": "trvma5BEjmDd"
      },
      "execution_count": 3,
      "outputs": []
    },
    {
      "cell_type": "code",
      "source": [
        "# 컴파일 및 훈련\n",
        "model.compile(loss = 'mse', optimizer = 'adam')\n",
        "model.fit(x_train, y_train, epochs=100, batch_size=1, verbose=0)"
      ],
      "metadata": {
        "colab": {
          "base_uri": "https://localhost:8080/"
        },
        "id": "V1hDplq1kINF",
        "outputId": "3926e75e-846e-4757-c8e5-92432d401440"
      },
      "execution_count": 4,
      "outputs": [
        {
          "output_type": "execute_result",
          "data": {
            "text/plain": [
              "<keras.src.callbacks.History at 0x7b369d80f940>"
            ]
          },
          "metadata": {},
          "execution_count": 4
        }
      ]
    },
    {
      "cell_type": "code",
      "source": [
        "# 예측\n",
        "loss = model.evaluate(x_test, y_test)\n",
        "result = model.predict([11])\n",
        "\n",
        "print(loss)\n",
        "print(result)"
      ],
      "metadata": {
        "colab": {
          "base_uri": "https://localhost:8080/"
        },
        "id": "qbnqqd5lk_yh",
        "outputId": "04ff8a86-f56d-425a-9ed2-8d04c4b14f64"
      },
      "execution_count": 5,
      "outputs": [
        {
          "output_type": "stream",
          "name": "stdout",
          "text": [
            "1/1 [==============================] - 0s 419ms/step - loss: 0.9830\n",
            "1/1 [==============================] - 0s 285ms/step\n",
            "0.9829986691474915\n",
            "[[12.288262]]\n"
          ]
        }
      ]
    }
  ]
}
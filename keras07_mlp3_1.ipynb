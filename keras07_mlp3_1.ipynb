{
  "nbformat": 4,
  "nbformat_minor": 0,
  "metadata": {
    "colab": {
      "provenance": [],
      "authorship_tag": "ABX9TyM3LremmK+LaVCAZNiGOZkH",
      "include_colab_link": true
    },
    "kernelspec": {
      "name": "python3",
      "display_name": "Python 3"
    },
    "language_info": {
      "name": "python"
    }
  },
  "cells": [
    {
      "cell_type": "markdown",
      "metadata": {
        "id": "view-in-github",
        "colab_type": "text"
      },
      "source": [
        "<a href=\"https://colab.research.google.com/github/rlaxodns/google-/blob/main/keras07_mlp3_1.ipynb\" target=\"_parent\"><img src=\"https://colab.research.google.com/assets/colab-badge.svg\" alt=\"Open In Colab\"/></a>"
      ]
    },
    {
      "cell_type": "markdown",
      "source": [
        "#x값이 3개인 경우, y값 2개 예측"
      ],
      "metadata": {
        "id": "eyovzmHEraQu"
      }
    },
    {
      "cell_type": "code",
      "execution_count": 4,
      "metadata": {
        "id": "g9GaTO4wrWzY"
      },
      "outputs": [],
      "source": [
        "#환경\n",
        "import numpy as np\n",
        "from tensorflow.keras.models import Sequential\n",
        "from tensorflow.keras.layers import Dense"
      ]
    },
    {
      "cell_type": "code",
      "source": [
        "# 데이터 구성\n",
        "x = np.array([range(10), range(21,31), range(41,51)])\n",
        "y = np.array([range(20,30), range(100,110)])\n",
        "\n",
        "print(x.shape)\n",
        "print(y.shape)\n",
        "\n",
        "# 데이터의 column에 따라 정렬 필요\n",
        "\n",
        "x=x.T\n",
        "y=np.transpose(y)\n",
        "\n",
        "print(x.shape)\n",
        "print(y.shape)"
      ],
      "metadata": {
        "colab": {
          "base_uri": "https://localhost:8080/"
        },
        "id": "FY77yS0dsqRu",
        "outputId": "9dd3727f-913d-499a-b591-dce504c250c4"
      },
      "execution_count": 9,
      "outputs": [
        {
          "output_type": "stream",
          "name": "stdout",
          "text": [
            "(3, 10)\n",
            "(2, 10)\n",
            "(10, 3)\n",
            "(10, 2)\n"
          ]
        }
      ]
    },
    {
      "cell_type": "code",
      "source": [
        "# 모델\n",
        "model = Sequential()\n",
        "model.add(Dense(10, input_dim=3))\n",
        "model.add(Dense(2))"
      ],
      "metadata": {
        "id": "HmIKqyQxsq3t"
      },
      "execution_count": 10,
      "outputs": []
    },
    {
      "cell_type": "code",
      "source": [
        "#컴파일 및 훈련\n",
        "model.compile(loss='mse', optimizer='adam')\n",
        "model.fit(x, y, epochs=1000, batch_size=1, verbose=0)\n"
      ],
      "metadata": {
        "colab": {
          "base_uri": "https://localhost:8080/"
        },
        "id": "Dm7NN-B1s4Vu",
        "outputId": "8868f1d9-267b-49bb-b5b8-2df52eff1d37"
      },
      "execution_count": 12,
      "outputs": [
        {
          "output_type": "execute_result",
          "data": {
            "text/plain": [
              "<keras.src.callbacks.History at 0x7828dc20bb50>"
            ]
          },
          "metadata": {},
          "execution_count": 12
        }
      ]
    },
    {
      "cell_type": "code",
      "source": [
        "# 예측 및 출력\n",
        "loss = model.evaluate(x, y)\n",
        "result = model.predict([[10,31,51]])\n",
        "\n",
        "print(result)\n",
        "print(loss)"
      ],
      "metadata": {
        "colab": {
          "base_uri": "https://localhost:8080/"
        },
        "id": "6JMWUSeQtU1g",
        "outputId": "ac139cde-1ad8-4e03-f82e-3bb61f77c978"
      },
      "execution_count": 13,
      "outputs": [
        {
          "output_type": "stream",
          "name": "stdout",
          "text": [
            "1/1 [==============================] - 0s 184ms/step - loss: 1.7028e-09\n",
            "1/1 [==============================] - 0s 99ms/step\n",
            "[[ 30.00004 110.00002]]\n",
            "1.7027559362503553e-09\n"
          ]
        }
      ]
    }
  ]
}
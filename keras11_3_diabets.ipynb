{
  "nbformat": 4,
  "nbformat_minor": 0,
  "metadata": {
    "colab": {
      "provenance": [],
      "authorship_tag": "ABX9TyNMaIaI1sbBzEL5Y7T2XiS3",
      "include_colab_link": true
    },
    "kernelspec": {
      "name": "python3",
      "display_name": "Python 3"
    },
    "language_info": {
      "name": "python"
    }
  },
  "cells": [
    {
      "cell_type": "markdown",
      "metadata": {
        "id": "view-in-github",
        "colab_type": "text"
      },
      "source": [
        "<a href=\"https://colab.research.google.com/github/rlaxodns/google-/blob/main/keras11_3_diabets.ipynb\" target=\"_parent\"><img src=\"https://colab.research.google.com/assets/colab-badge.svg\" alt=\"Open In Colab\"/></a>"
      ]
    },
    {
      "cell_type": "code",
      "execution_count": 2,
      "metadata": {
        "id": "gb6Zu9T0KAkE"
      },
      "outputs": [],
      "source": [
        "from sklearn.datasets import load_diabetes\n",
        "from keras.models import Sequential\n",
        "from keras.layers import Dense\n",
        "\n"
      ]
    },
    {
      "cell_type": "code",
      "source": [
        "#1. 데이터\n",
        "datasets = load_diabetes()\n",
        "x = datasets.data\n",
        "y = datasets.target\n",
        "\n",
        "from sklearn.model_selection import train_test_split\n",
        "x_train, x_test, y_train, y_test = train_test_split(x, y, test_size=0.2, random_state=625)\n",
        "\n",
        "print(x.shape)"
      ],
      "metadata": {
        "colab": {
          "base_uri": "https://localhost:8080/"
        },
        "id": "ZZJ54e5pK22m",
        "outputId": "d51bc002-e914-40d3-c50e-69993e429594"
      },
      "execution_count": 16,
      "outputs": [
        {
          "output_type": "stream",
          "name": "stdout",
          "text": [
            "(442, 10)\n"
          ]
        }
      ]
    },
    {
      "cell_type": "code",
      "source": [
        "#2. 모델 구성\n",
        "model = Sequential()\n",
        "model.add(Dense(1, input_dim=10))"
      ],
      "metadata": {
        "id": "neEOnek4LVdJ"
      },
      "execution_count": 17,
      "outputs": []
    },
    {
      "cell_type": "code",
      "source": [
        "#3. 컴파일 및 훈련\n",
        "model.compile(loss='mse', optimizer = 'adam')\n",
        "model.fit(x_train, y_train, epochs=20, batch_size=1)"
      ],
      "metadata": {
        "colab": {
          "base_uri": "https://localhost:8080/"
        },
        "id": "AkcJbWNqLqED",
        "outputId": "9a610879-8f60-480e-f1bf-fa36f8fc4f03"
      },
      "execution_count": 18,
      "outputs": [
        {
          "output_type": "stream",
          "name": "stdout",
          "text": [
            "Epoch 1/20\n",
            "353/353 [==============================] - 1s 2ms/step - loss: 30282.1113\n",
            "Epoch 2/20\n",
            "353/353 [==============================] - 1s 2ms/step - loss: 30181.7656\n",
            "Epoch 3/20\n",
            "353/353 [==============================] - 1s 2ms/step - loss: 30080.8281\n",
            "Epoch 4/20\n",
            "353/353 [==============================] - 1s 2ms/step - loss: 29979.8887\n",
            "Epoch 5/20\n",
            "353/353 [==============================] - 0s 1ms/step - loss: 29879.2715\n",
            "Epoch 6/20\n",
            "353/353 [==============================] - 1s 1ms/step - loss: 29779.0762\n",
            "Epoch 7/20\n",
            "353/353 [==============================] - 0s 1ms/step - loss: 29679.0996\n",
            "Epoch 8/20\n",
            "353/353 [==============================] - 1s 1ms/step - loss: 29579.3008\n",
            "Epoch 9/20\n",
            "353/353 [==============================] - 0s 1ms/step - loss: 29479.7852\n",
            "Epoch 10/20\n",
            "353/353 [==============================] - 1s 1ms/step - loss: 29380.7402\n",
            "Epoch 11/20\n",
            "353/353 [==============================] - 0s 1ms/step - loss: 29281.9668\n",
            "Epoch 12/20\n",
            "353/353 [==============================] - 0s 1ms/step - loss: 29183.4648\n",
            "Epoch 13/20\n",
            "353/353 [==============================] - 1s 1ms/step - loss: 29085.1250\n",
            "Epoch 14/20\n",
            "353/353 [==============================] - 1s 2ms/step - loss: 28987.0371\n",
            "Epoch 15/20\n",
            "353/353 [==============================] - 0s 1ms/step - loss: 28889.1758\n",
            "Epoch 16/20\n",
            "353/353 [==============================] - 0s 1ms/step - loss: 28791.4336\n",
            "Epoch 17/20\n",
            "353/353 [==============================] - 0s 1ms/step - loss: 28693.9570\n",
            "Epoch 18/20\n",
            "353/353 [==============================] - 1s 1ms/step - loss: 28596.8555\n",
            "Epoch 19/20\n",
            "353/353 [==============================] - 0s 1ms/step - loss: 28499.7363\n",
            "Epoch 20/20\n",
            "353/353 [==============================] - 1s 1ms/step - loss: 28403.0117\n"
          ]
        },
        {
          "output_type": "execute_result",
          "data": {
            "text/plain": [
              "<keras.src.callbacks.History at 0x7ef69ff3c250>"
            ]
          },
          "metadata": {},
          "execution_count": 18
        }
      ]
    },
    {
      "cell_type": "code",
      "source": [
        "#4. 예측 및 검토\n",
        "loss = model.evaluate(x_test, y_test)\n",
        "y_predict = model.predict(x_test)\n",
        "\n",
        "from sklearn.metrics import r2_score\n",
        "r2 = r2_score(y_test, y_predict)\n",
        "\n",
        "print(loss)\n",
        "print(r2)"
      ],
      "metadata": {
        "colab": {
          "base_uri": "https://localhost:8080/"
        },
        "id": "knRSrLhsMY2y",
        "outputId": "9a1a46f6-ed8a-4b51-eb87-7581f4a7c3fe"
      },
      "execution_count": 19,
      "outputs": [
        {
          "output_type": "stream",
          "name": "stdout",
          "text": [
            "3/3 [==============================] - 0s 4ms/step - loss: 22411.9766\n",
            "3/3 [==============================] - 0s 3ms/step\n",
            "22411.9765625\n",
            "-2.6780098088326723\n"
          ]
        }
      ]
    }
  ]
}
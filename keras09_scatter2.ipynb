{
  "nbformat": 4,
  "nbformat_minor": 0,
  "metadata": {
    "colab": {
      "provenance": [],
      "authorship_tag": "ABX9TyNidsHG929VjVX9gjJbHIYU",
      "include_colab_link": true
    },
    "kernelspec": {
      "name": "python3",
      "display_name": "Python 3"
    },
    "language_info": {
      "name": "python"
    }
  },
  "cells": [
    {
      "cell_type": "markdown",
      "metadata": {
        "id": "view-in-github",
        "colab_type": "text"
      },
      "source": [
        "<a href=\"https://colab.research.google.com/github/rlaxodns/google-/blob/main/keras09_scatter2.ipynb\" target=\"_parent\"><img src=\"https://colab.research.google.com/assets/colab-badge.svg\" alt=\"Open In Colab\"/></a>"
      ]
    },
    {
      "cell_type": "code",
      "execution_count": 10,
      "metadata": {
        "id": "4JrQnmWd8503"
      },
      "outputs": [],
      "source": [
        "import numpy as np\n",
        "from keras.models import Sequential\n",
        "from keras.layers import Dense\n",
        "from sklearn.model_selection import train_test_split\n",
        "from matplotlib import pyplot as plt"
      ]
    },
    {
      "cell_type": "code",
      "source": [
        "#1. 데이터\n",
        "x = np.array([1, 2, 3, 5, 4, 7, 9, 8, 9, 10])\n",
        "y = np.array([1, 2, 4, 3, 5 ,7, 9, 3, 8, 12,])\n",
        "\n",
        "x_train, x_test, y_train, y_test = train_test_split(x, y, test_size=0.2, random_state = 6265)"
      ],
      "metadata": {
        "id": "34PFM1FDALag"
      },
      "execution_count": 6,
      "outputs": []
    },
    {
      "cell_type": "code",
      "source": [
        "#2. 모델구성\n",
        "model = Sequential()\n",
        "model.add(Dense(1, input_dim=1))"
      ],
      "metadata": {
        "id": "MpySJjH0AwQB"
      },
      "execution_count": 7,
      "outputs": []
    },
    {
      "cell_type": "code",
      "source": [
        "#3. 컴파일 및 훈련\n",
        "model.compile(loss='mse', optimizer='adam')\n",
        "model.fit(x_train, y_train, epochs=100, batch_size=1)"
      ],
      "metadata": {
        "colab": {
          "base_uri": "https://localhost:8080/"
        },
        "id": "WUWtqiQvA3gU",
        "outputId": "f58d1502-810f-499c-e881-b390af42f1ac"
      },
      "execution_count": 11,
      "outputs": [
        {
          "output_type": "stream",
          "name": "stdout",
          "text": [
            "Epoch 1/100\n",
            "8/8 [==============================] - 1s 5ms/step - loss: 19.6234\n",
            "Epoch 2/100\n",
            "8/8 [==============================] - 0s 4ms/step - loss: 19.3088\n",
            "Epoch 3/100\n",
            "8/8 [==============================] - 0s 3ms/step - loss: 18.9882\n",
            "Epoch 4/100\n",
            "8/8 [==============================] - 0s 6ms/step - loss: 18.6165\n",
            "Epoch 5/100\n",
            "8/8 [==============================] - 0s 3ms/step - loss: 18.2948\n",
            "Epoch 6/100\n",
            "8/8 [==============================] - 0s 3ms/step - loss: 18.0121\n",
            "Epoch 7/100\n",
            "8/8 [==============================] - 0s 2ms/step - loss: 17.7260\n",
            "Epoch 8/100\n",
            "8/8 [==============================] - 0s 6ms/step - loss: 17.3700\n",
            "Epoch 9/100\n",
            "8/8 [==============================] - 0s 5ms/step - loss: 17.1230\n",
            "Epoch 10/100\n",
            "8/8 [==============================] - 0s 4ms/step - loss: 16.8786\n",
            "Epoch 11/100\n",
            "8/8 [==============================] - 0s 3ms/step - loss: 16.4931\n",
            "Epoch 12/100\n",
            "8/8 [==============================] - 0s 5ms/step - loss: 16.2626\n",
            "Epoch 13/100\n",
            "8/8 [==============================] - 0s 6ms/step - loss: 15.9697\n",
            "Epoch 14/100\n",
            "8/8 [==============================] - 0s 3ms/step - loss: 15.6593\n",
            "Epoch 15/100\n",
            "8/8 [==============================] - 0s 5ms/step - loss: 15.3604\n",
            "Epoch 16/100\n",
            "8/8 [==============================] - 0s 6ms/step - loss: 15.1847\n",
            "Epoch 17/100\n",
            "8/8 [==============================] - 0s 13ms/step - loss: 14.8731\n",
            "Epoch 18/100\n",
            "8/8 [==============================] - 0s 6ms/step - loss: 14.6190\n",
            "Epoch 19/100\n",
            "8/8 [==============================] - 0s 5ms/step - loss: 14.3895\n",
            "Epoch 20/100\n",
            "8/8 [==============================] - 0s 3ms/step - loss: 14.0823\n",
            "Epoch 21/100\n",
            "8/8 [==============================] - 0s 3ms/step - loss: 13.8525\n",
            "Epoch 22/100\n",
            "8/8 [==============================] - 0s 4ms/step - loss: 13.6233\n",
            "Epoch 23/100\n",
            "8/8 [==============================] - 0s 3ms/step - loss: 13.3771\n",
            "Epoch 24/100\n",
            "8/8 [==============================] - 0s 4ms/step - loss: 13.1156\n",
            "Epoch 25/100\n",
            "8/8 [==============================] - 0s 4ms/step - loss: 12.9037\n",
            "Epoch 26/100\n",
            "8/8 [==============================] - 0s 3ms/step - loss: 12.7006\n",
            "Epoch 27/100\n",
            "8/8 [==============================] - 0s 3ms/step - loss: 12.4829\n",
            "Epoch 28/100\n",
            "8/8 [==============================] - 0s 6ms/step - loss: 12.2433\n",
            "Epoch 29/100\n",
            "8/8 [==============================] - 0s 4ms/step - loss: 12.0138\n",
            "Epoch 30/100\n",
            "8/8 [==============================] - 0s 4ms/step - loss: 11.7777\n",
            "Epoch 31/100\n",
            "8/8 [==============================] - 0s 11ms/step - loss: 11.5917\n",
            "Epoch 32/100\n",
            "8/8 [==============================] - 0s 5ms/step - loss: 11.4187\n",
            "Epoch 33/100\n",
            "8/8 [==============================] - 0s 4ms/step - loss: 11.1628\n",
            "Epoch 34/100\n",
            "8/8 [==============================] - 0s 4ms/step - loss: 11.0207\n",
            "Epoch 35/100\n",
            "8/8 [==============================] - 0s 5ms/step - loss: 10.7712\n",
            "Epoch 36/100\n",
            "8/8 [==============================] - 0s 13ms/step - loss: 10.5970\n",
            "Epoch 37/100\n",
            "8/8 [==============================] - 0s 6ms/step - loss: 10.3783\n",
            "Epoch 38/100\n",
            "8/8 [==============================] - 0s 5ms/step - loss: 10.2132\n",
            "Epoch 39/100\n",
            "8/8 [==============================] - 0s 3ms/step - loss: 10.0767\n",
            "Epoch 40/100\n",
            "8/8 [==============================] - 0s 3ms/step - loss: 9.8718\n",
            "Epoch 41/100\n",
            "8/8 [==============================] - 0s 4ms/step - loss: 9.6607\n",
            "Epoch 42/100\n",
            "8/8 [==============================] - 0s 4ms/step - loss: 9.5190\n",
            "Epoch 43/100\n",
            "8/8 [==============================] - 0s 3ms/step - loss: 9.3249\n",
            "Epoch 44/100\n",
            "8/8 [==============================] - 0s 3ms/step - loss: 9.1872\n",
            "Epoch 45/100\n",
            "8/8 [==============================] - 0s 3ms/step - loss: 9.0057\n",
            "Epoch 46/100\n",
            "8/8 [==============================] - 0s 5ms/step - loss: 8.8655\n",
            "Epoch 47/100\n",
            "8/8 [==============================] - 0s 3ms/step - loss: 8.6563\n",
            "Epoch 48/100\n",
            "8/8 [==============================] - 0s 3ms/step - loss: 8.5369\n",
            "Epoch 49/100\n",
            "8/8 [==============================] - 0s 4ms/step - loss: 8.3587\n",
            "Epoch 50/100\n",
            "8/8 [==============================] - 0s 3ms/step - loss: 8.2153\n",
            "Epoch 51/100\n",
            "8/8 [==============================] - 0s 6ms/step - loss: 8.0994\n",
            "Epoch 52/100\n",
            "8/8 [==============================] - 0s 5ms/step - loss: 7.9486\n",
            "Epoch 53/100\n",
            "8/8 [==============================] - 0s 5ms/step - loss: 7.7950\n",
            "Epoch 54/100\n",
            "8/8 [==============================] - 0s 3ms/step - loss: 7.6346\n",
            "Epoch 55/100\n",
            "8/8 [==============================] - 0s 5ms/step - loss: 7.4974\n",
            "Epoch 56/100\n",
            "8/8 [==============================] - 0s 5ms/step - loss: 7.3809\n",
            "Epoch 57/100\n",
            "8/8 [==============================] - 0s 16ms/step - loss: 7.2950\n",
            "Epoch 58/100\n",
            "8/8 [==============================] - 0s 24ms/step - loss: 7.1144\n",
            "Epoch 59/100\n",
            "8/8 [==============================] - 0s 6ms/step - loss: 6.9900\n",
            "Epoch 60/100\n",
            "8/8 [==============================] - 0s 7ms/step - loss: 6.8713\n",
            "Epoch 61/100\n",
            "8/8 [==============================] - 0s 12ms/step - loss: 6.7640\n",
            "Epoch 62/100\n",
            "8/8 [==============================] - 0s 6ms/step - loss: 6.6527\n",
            "Epoch 63/100\n",
            "8/8 [==============================] - 0s 6ms/step - loss: 6.5021\n",
            "Epoch 64/100\n",
            "8/8 [==============================] - 0s 5ms/step - loss: 6.3850\n",
            "Epoch 65/100\n",
            "8/8 [==============================] - 0s 6ms/step - loss: 6.3104\n",
            "Epoch 66/100\n",
            "8/8 [==============================] - 0s 9ms/step - loss: 6.1620\n",
            "Epoch 67/100\n",
            "8/8 [==============================] - 0s 7ms/step - loss: 6.0644\n",
            "Epoch 68/100\n",
            "8/8 [==============================] - 0s 6ms/step - loss: 5.9660\n",
            "Epoch 69/100\n",
            "8/8 [==============================] - 0s 7ms/step - loss: 5.8592\n",
            "Epoch 70/100\n",
            "8/8 [==============================] - 0s 6ms/step - loss: 5.7710\n",
            "Epoch 71/100\n",
            "8/8 [==============================] - 0s 9ms/step - loss: 5.6481\n",
            "Epoch 72/100\n",
            "8/8 [==============================] - 0s 4ms/step - loss: 5.5960\n",
            "Epoch 73/100\n",
            "8/8 [==============================] - 0s 4ms/step - loss: 5.4797\n",
            "Epoch 74/100\n",
            "8/8 [==============================] - 0s 3ms/step - loss: 5.3775\n",
            "Epoch 75/100\n",
            "8/8 [==============================] - 0s 3ms/step - loss: 5.2662\n",
            "Epoch 76/100\n",
            "8/8 [==============================] - 0s 4ms/step - loss: 5.2043\n",
            "Epoch 77/100\n",
            "8/8 [==============================] - 0s 5ms/step - loss: 5.0984\n",
            "Epoch 78/100\n",
            "8/8 [==============================] - 0s 7ms/step - loss: 5.0146\n",
            "Epoch 79/100\n",
            "8/8 [==============================] - 0s 4ms/step - loss: 4.9586\n",
            "Epoch 80/100\n",
            "8/8 [==============================] - 0s 5ms/step - loss: 4.8577\n",
            "Epoch 81/100\n",
            "8/8 [==============================] - 0s 5ms/step - loss: 4.7758\n",
            "Epoch 82/100\n",
            "8/8 [==============================] - 0s 4ms/step - loss: 4.7128\n",
            "Epoch 83/100\n",
            "8/8 [==============================] - 0s 3ms/step - loss: 4.6149\n",
            "Epoch 84/100\n",
            "8/8 [==============================] - 0s 3ms/step - loss: 4.5568\n",
            "Epoch 85/100\n",
            "8/8 [==============================] - 0s 5ms/step - loss: 4.4645\n",
            "Epoch 86/100\n",
            "8/8 [==============================] - 0s 4ms/step - loss: 4.3995\n",
            "Epoch 87/100\n",
            "8/8 [==============================] - 0s 5ms/step - loss: 4.3367\n",
            "Epoch 88/100\n",
            "8/8 [==============================] - 0s 3ms/step - loss: 4.2618\n",
            "Epoch 89/100\n",
            "8/8 [==============================] - 0s 6ms/step - loss: 4.1972\n",
            "Epoch 90/100\n",
            "8/8 [==============================] - 0s 5ms/step - loss: 4.1327\n",
            "Epoch 91/100\n",
            "8/8 [==============================] - 0s 4ms/step - loss: 4.0635\n",
            "Epoch 92/100\n",
            "8/8 [==============================] - 0s 5ms/step - loss: 4.0223\n",
            "Epoch 93/100\n",
            "8/8 [==============================] - 0s 4ms/step - loss: 3.9476\n",
            "Epoch 94/100\n",
            "8/8 [==============================] - 0s 5ms/step - loss: 3.8844\n",
            "Epoch 95/100\n",
            "8/8 [==============================] - 0s 9ms/step - loss: 3.8290\n",
            "Epoch 96/100\n",
            "8/8 [==============================] - 0s 3ms/step - loss: 3.7581\n",
            "Epoch 97/100\n",
            "8/8 [==============================] - 0s 4ms/step - loss: 3.7095\n",
            "Epoch 98/100\n",
            "8/8 [==============================] - 0s 4ms/step - loss: 3.6644\n",
            "Epoch 99/100\n",
            "8/8 [==============================] - 0s 4ms/step - loss: 3.6180\n",
            "Epoch 100/100\n",
            "8/8 [==============================] - 0s 4ms/step - loss: 3.5503\n"
          ]
        },
        {
          "output_type": "execute_result",
          "data": {
            "text/plain": [
              "<keras.src.callbacks.History at 0x7e6c2a9d4a00>"
            ]
          },
          "metadata": {},
          "execution_count": 11
        }
      ]
    },
    {
      "cell_type": "code",
      "source": [
        "# 예측 및 평가\n",
        "loss = model.evaluate(x_test, y_test)\n",
        "result = model.predict([x])\n",
        "\n",
        "plt.scatter(x, y)\n",
        "plt.plot(x, result)\n",
        "plt.show()"
      ],
      "metadata": {
        "colab": {
          "base_uri": "https://localhost:8080/",
          "height": 467
        },
        "id": "IGyIteoxCCdU",
        "outputId": "923ef502-93da-4f08-c46f-daf8bb062d7b"
      },
      "execution_count": 12,
      "outputs": [
        {
          "output_type": "stream",
          "name": "stdout",
          "text": [
            "1/1 [==============================] - 0s 175ms/step - loss: 6.5307\n",
            "1/1 [==============================] - 0s 76ms/step\n"
          ]
        },
        {
          "output_type": "display_data",
          "data": {
            "text/plain": [
              "<Figure size 640x480 with 1 Axes>"
            ],
            "image/png": "[encoded data removed]"
          },
          "metadata": {}
        }
      ]
    }
  ]
}
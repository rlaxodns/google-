{
  "nbformat": 4,
  "nbformat_minor": 0,
  "metadata": {
    "colab": {
      "provenance": [],
      "authorship_tag": "ABX9TyM+195+ZyYiGnG4ERG4OcOO",
      "include_colab_link": true
    },
    "kernelspec": {
      "name": "python3",
      "display_name": "Python 3"
    },
    "language_info": {
      "name": "python"
    }
  },
  "cells": [
    {
      "cell_type": "markdown",
      "metadata": {
        "id": "view-in-github",
        "colab_type": "text"
      },
      "source": [
        "<a href=\"https://colab.research.google.com/github/rlaxodns/google-/blob/main/keras07_mlp3_2.ipynb\" target=\"_parent\"><img src=\"https://colab.research.google.com/assets/colab-badge.svg\" alt=\"Open In Colab\"/></a>"
      ]
    },
    {
      "cell_type": "markdown",
      "source": [
        "# x값이 3개인 경우, y값 3개의 예측"
      ],
      "metadata": {
        "id": "Owg9Co6oujFc"
      }
    },
    {
      "cell_type": "code",
      "execution_count": 2,
      "metadata": {
        "id": "nAlK0CviubxB"
      },
      "outputs": [],
      "source": [
        "# 환경준비\n",
        "import numpy as np\n",
        "from keras.models import Sequential\n",
        "from keras.layers import Dense"
      ]
    },
    {
      "cell_type": "code",
      "source": [
        "# 데이터 구성\n",
        "x = np.array([range(10), range(21,31), range(201, 211)]) #x1,x2,x3의 데이터 존재\n",
        "\n",
        "y = np.array ([[1,2,3,4,5,6,7,8,9,10],\n",
        "                [10,9,8,7,6,5,4,3,2,1],\n",
        "                [9,8,7,6,5,4,3,2,1,0]]) #y1, y2, y3의 데이터가 존재\n",
        "\n",
        "print(x.shape)\n",
        "print(y.shape)\n",
        "\n",
        "# 자료 구조 변경 필요\n",
        "\n",
        "x = x.transpose()\n",
        "print(x.shape)\n",
        "y= y.transpose()\n",
        "print(y.shape)"
      ],
      "metadata": {
        "colab": {
          "base_uri": "https://localhost:8080/"
        },
        "id": "Dlw3JNrN0aTA",
        "outputId": "e3090041-ec54-498e-9247-c2d03adc10a4"
      },
      "execution_count": 4,
      "outputs": [
        {
          "output_type": "stream",
          "name": "stdout",
          "text": [
            "(3, 10)\n",
            "(3, 10)\n",
            "(10, 3)\n",
            "(10, 3)\n"
          ]
        }
      ]
    },
    {
      "cell_type": "code",
      "source": [
        "# 모델 구성\n",
        "model = Sequential()\n",
        "model.add(Dense(1, input_dim=3))"
      ],
      "metadata": {
        "id": "kHD1xsS60bJe"
      },
      "execution_count": 5,
      "outputs": []
    },
    {
      "cell_type": "code",
      "source": [
        "# 컴파일 및 훈련\n",
        "model.compile(loss='mse', optimizer='adam')\n",
        "model.fit(x, y, epochs=1000, batch_size=1, verbose=0)"
      ],
      "metadata": {
        "colab": {
          "base_uri": "https://localhost:8080/"
        },
        "id": "yaZLcrjW4wPd",
        "outputId": "5693a674-8859-4fb1-a6c7-9c674d529b20"
      },
      "execution_count": 6,
      "outputs": [
        {
          "output_type": "execute_result",
          "data": {
            "text/plain": [
              "<keras.src.callbacks.History at 0x78e71033bc10>"
            ]
          },
          "metadata": {},
          "execution_count": 6
        }
      ]
    },
    {
      "cell_type": "code",
      "source": [
        "# 예측\n",
        "loss = model.evaluate(x, y)\n",
        "print(loss)\n",
        "\n",
        "result = model.predict([[11,30,210]])\n",
        "print(result)"
      ],
      "metadata": {
        "colab": {
          "base_uri": "https://localhost:8080/"
        },
        "id": "YtRxgmtp47mu",
        "outputId": "5f523299-0f19-4ad7-f980-05e2420fc8bc"
      },
      "execution_count": 8,
      "outputs": [
        {
          "output_type": "stream",
          "name": "stdout",
          "text": [
            "1/1 [==============================] - 0s 18ms/step - loss: 7.5556\n",
            "7.5555620193481445\n",
            "1/1 [==============================] - 0s 30ms/step\n",
            "[[2.159212]]\n"
          ]
        }
      ]
    }
  ]
}
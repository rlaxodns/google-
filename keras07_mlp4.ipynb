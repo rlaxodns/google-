{
  "nbformat": 4,
  "nbformat_minor": 0,
  "metadata": {
    "colab": {
      "provenance": [],
      "authorship_tag": "ABX9TyMxi8aueRaUvu/Wc4nm8owQ",
      "include_colab_link": true
    },
    "kernelspec": {
      "name": "python3",
      "display_name": "Python 3"
    },
    "language_info": {
      "name": "python"
    }
  },
  "cells": [
    {
      "cell_type": "markdown",
      "metadata": {
        "id": "view-in-github",
        "colab_type": "text"
      },
      "source": [
        "<a href=\"https://colab.research.google.com/github/rlaxodns/google-/blob/main/keras07_mlp4.ipynb\" target=\"_parent\"><img src=\"https://colab.research.google.com/assets/colab-badge.svg\" alt=\"Open In Colab\"/></a>"
      ]
    },
    {
      "cell_type": "markdown",
      "source": [
        "# x의 값이 하나인 경우 y 3개의 값을 예측하는 모델\n",
        "## 다만, 성능의 보장은 할 수 없다."
      ],
      "metadata": {
        "id": "IYN5IvDydXNb"
      }
    },
    {
      "cell_type": "code",
      "execution_count": 2,
      "metadata": {
        "id": "PSj-elyT5qEJ"
      },
      "outputs": [],
      "source": [
        "# 환경 준비\n",
        "from keras.models import Sequential\n",
        "from keras.layers import Dense\n",
        "import numpy as np"
      ]
    },
    {
      "cell_type": "code",
      "source": [
        "# 데이터 구성\n",
        "x = np.array(range(10))  # 해당 벡터에 대괄호를 씌울 경우에는 행렬의 형태로 (1,10) 나타나지만\n",
        "# 대괄호를 씌우지 않을 경우에는 벡터의 형태로 shape이 출력\n",
        "y = np.array([[1,2,3,4,5,6,7,8,9,10],\n",
        "              [20,21,22,23,24,25,26,27,28,29],\n",
        "              [9,8,7,6,5,4,3,2,1,0]])\n",
        "\n",
        "print(x.shape)\n",
        "print(y.shape)\n",
        "# y 값의 행렬 형태 변경의 필요\n",
        "\n",
        "y = y.T\n",
        "print(y.shape)\n"
      ],
      "metadata": {
        "colab": {
          "base_uri": "https://localhost:8080/"
        },
        "id": "c6-f_PxBdx8r",
        "outputId": "07c4139a-bab1-4c24-94ad-8e52c8483c0c"
      },
      "execution_count": 9,
      "outputs": [
        {
          "output_type": "stream",
          "name": "stdout",
          "text": [
            "(10,)\n",
            "(3, 10)\n",
            "(10, 3)\n"
          ]
        }
      ]
    },
    {
      "cell_type": "code",
      "source": [
        "# 모델 구성\n",
        "model= Sequential()\n",
        "model.add(Dense(3, input_dim = 1))\n",
        "model.add(Dense(12))\n",
        "model.add(Dense(3))"
      ],
      "metadata": {
        "id": "cK8Zg1QbfXV4"
      },
      "execution_count": 10,
      "outputs": []
    },
    {
      "cell_type": "code",
      "source": [
        "# 컴파일 및 예측\n",
        "model.compile(loss = 'mse', optimizer='adam')\n",
        "model.fit(x, y, epochs =100, batch_size =1, verbose = 0)"
      ],
      "metadata": {
        "colab": {
          "base_uri": "https://localhost:8080/"
        },
        "id": "TmuwCNOHfnZy",
        "outputId": "ff0ab8c3-5683-4f11-fcdb-cefe5005581f"
      },
      "execution_count": 11,
      "outputs": [
        {
          "output_type": "execute_result",
          "data": {
            "text/plain": [
              "<keras.src.callbacks.History at 0x7bd045586350>"
            ]
          },
          "metadata": {},
          "execution_count": 11
        }
      ]
    },
    {
      "cell_type": "code",
      "source": [
        "# 예측\n",
        "loss = model.evaluate(x, y)\n",
        "result = model.predict([[11]])\n",
        "\n",
        "print(loss)\n",
        "print(result)"
      ],
      "metadata": {
        "colab": {
          "base_uri": "https://localhost:8080/"
        },
        "id": "x1yk6t_mf2m3",
        "outputId": "ce90b29d-e3d6-4d7b-c244-0fedcd9d0f7a"
      },
      "execution_count": 16,
      "outputs": [
        {
          "output_type": "stream",
          "name": "stdout",
          "text": [
            "1/1 [==============================] - 0s 45ms/step - loss: 27.9047\n",
            "1/1 [==============================] - 0s 77ms/step\n",
            "27.90468978881836\n",
            "[[11.727451  43.129654   4.2152333]]\n"
          ]
        }
      ]
    }
  ]
}
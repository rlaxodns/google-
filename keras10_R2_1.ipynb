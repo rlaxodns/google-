{
  "nbformat": 4,
  "nbformat_minor": 0,
  "metadata": {
    "colab": {
      "provenance": [],
      "authorship_tag": "ABX9TyPR02JyNqVjOU5QTU3fOLCW",
      "include_colab_link": true
    },
    "kernelspec": {
      "name": "python3",
      "display_name": "Python 3"
    },
    "language_info": {
      "name": "python"
    }
  },
  "cells": [
    {
      "cell_type": "markdown",
      "metadata": {
        "id": "view-in-github",
        "colab_type": "text"
      },
      "source": [
        "<a href=\"https://colab.research.google.com/github/rlaxodns/google-/blob/main/keras10_R2_1.ipynb\" target=\"_parent\"><img src=\"https://colab.research.google.com/assets/colab-badge.svg\" alt=\"Open In Colab\"/></a>"
      ]
    },
    {
      "cell_type": "markdown",
      "source": [
        "#R2(결정계수)\n",
        "sst : 실제값과 평균과의 오차의 제곱을 모두 합한 값  \n",
        "sse : 예측값과 평균값의 오차의 제곱을 모두 합한 값\n",
        "ssr : 실제값과 예측값의 오차의 제곱을 모두 합한 값\n",
        "\n",
        "결정계수 : SSE/SST = 1 - SSR/SST\n",
        "\n",
        "x가 y를 얼마나 잘 설명하느냐를 의미한다. 0~1 사이의 값  \n",
        "즉, 예측 모델이 얼마나 데이터에 잘 부합하는지를 수치적으로 보여주는 지표"
      ],
      "metadata": {
        "id": "IQS-YcG8C0ad"
      }
    },
    {
      "cell_type": "code",
      "execution_count": 5,
      "metadata": {
        "id": "Sws4SP0cCy0R"
      },
      "outputs": [],
      "source": [
        "import numpy as np\n",
        "from keras.models import Sequential\n",
        "from keras.layers import Dense\n",
        "from sklearn.model_selection import train_test_split\n",
        "from sklearn.metrics import r2_score"
      ]
    },
    {
      "cell_type": "code",
      "source": [
        "#1. 데이터 구성\n",
        "x = np.array([1, 2, 3, 4, 5, 6, 7, 8, 9, 10])\n",
        "y = np.array([2, 4, 6, 8, 10, 12, 14, 16, 18, 20])\n",
        "\n",
        "x_train, x_test, y_train, y_test = train_test_split(x, y, test_size=0.2, random_state=626)"
      ],
      "metadata": {
        "id": "wsMdZUlvEBVW"
      },
      "execution_count": 3,
      "outputs": []
    },
    {
      "cell_type": "code",
      "source": [
        "#2. 모델구성\n",
        "model = Sequential()\n",
        "model.add(Dense(100, input_dim=1))\n",
        "model.add(Dense(100))\n",
        "model.add(Dense(1))"
      ],
      "metadata": {
        "id": "wypGShYDEOZs"
      },
      "execution_count": 11,
      "outputs": []
    },
    {
      "cell_type": "code",
      "source": [
        "#3. 컴파일 및 훈련\n",
        "model.compile(loss = 'mse', optimizer ='adam')\n",
        "model.fit(x_train, y_train, epochs=100, batch_size=1)"
      ],
      "metadata": {
        "colab": {
          "base_uri": "https://localhost:8080/"
        },
        "id": "N3IYm1PWEhud",
        "outputId": "c4fba5cf-4fc5-4608-a87e-87aa55fc9113"
      },
      "execution_count": 12,
      "outputs": [
        {
          "output_type": "stream",
          "name": "stdout",
          "text": [
            "Epoch 1/100\n",
            "8/8 [==============================] - 0s 1ms/step - loss: 102.8346\n",
            "Epoch 2/100\n",
            "8/8 [==============================] - 0s 1ms/step - loss: 29.3907\n",
            "Epoch 3/100\n",
            "8/8 [==============================] - 0s 2ms/step - loss: 1.8121\n",
            "Epoch 4/100\n",
            "8/8 [==============================] - 0s 1ms/step - loss: 4.7787\n",
            "Epoch 5/100\n",
            "8/8 [==============================] - 0s 1ms/step - loss: 1.0071\n",
            "Epoch 6/100\n",
            "8/8 [==============================] - 0s 1ms/step - loss: 0.1312\n",
            "Epoch 7/100\n",
            "8/8 [==============================] - 0s 1ms/step - loss: 0.2854\n",
            "Epoch 8/100\n",
            "8/8 [==============================] - 0s 1ms/step - loss: 0.1038\n",
            "Epoch 9/100\n",
            "8/8 [==============================] - 0s 1ms/step - loss: 0.0392\n",
            "Epoch 10/100\n",
            "8/8 [==============================] - 0s 1ms/step - loss: 0.0647\n",
            "Epoch 11/100\n",
            "8/8 [==============================] - 0s 1ms/step - loss: 0.0304\n",
            "Epoch 12/100\n",
            "8/8 [==============================] - 0s 1ms/step - loss: 0.0253\n",
            "Epoch 13/100\n",
            "8/8 [==============================] - 0s 1ms/step - loss: 0.0225\n",
            "Epoch 14/100\n",
            "8/8 [==============================] - 0s 1ms/step - loss: 0.0179\n",
            "Epoch 15/100\n",
            "8/8 [==============================] - 0s 1ms/step - loss: 0.0190\n",
            "Epoch 16/100\n",
            "8/8 [==============================] - 0s 1ms/step - loss: 0.0179\n",
            "Epoch 17/100\n",
            "8/8 [==============================] - 0s 1ms/step - loss: 0.0163\n",
            "Epoch 18/100\n",
            "8/8 [==============================] - 0s 1ms/step - loss: 0.0144\n",
            "Epoch 19/100\n",
            "8/8 [==============================] - 0s 1ms/step - loss: 0.0139\n",
            "Epoch 20/100\n",
            "8/8 [==============================] - 0s 1ms/step - loss: 0.0130\n",
            "Epoch 21/100\n",
            "8/8 [==============================] - 0s 1ms/step - loss: 0.0119\n",
            "Epoch 22/100\n",
            "8/8 [==============================] - 0s 1ms/step - loss: 0.0107\n",
            "Epoch 23/100\n",
            "8/8 [==============================] - 0s 1ms/step - loss: 0.0098\n",
            "Epoch 24/100\n",
            "8/8 [==============================] - 0s 1ms/step - loss: 0.0102\n",
            "Epoch 25/100\n",
            "8/8 [==============================] - 0s 1ms/step - loss: 0.0087\n",
            "Epoch 26/100\n",
            "8/8 [==============================] - 0s 1ms/step - loss: 0.0081\n",
            "Epoch 27/100\n",
            "8/8 [==============================] - 0s 2ms/step - loss: 0.0066\n",
            "Epoch 28/100\n",
            "8/8 [==============================] - 0s 1ms/step - loss: 0.0070\n",
            "Epoch 29/100\n",
            "8/8 [==============================] - 0s 1ms/step - loss: 0.0060\n",
            "Epoch 30/100\n",
            "8/8 [==============================] - 0s 1ms/step - loss: 0.0052\n",
            "Epoch 31/100\n",
            "8/8 [==============================] - 0s 1ms/step - loss: 0.0048\n",
            "Epoch 32/100\n",
            "8/8 [==============================] - 0s 1ms/step - loss: 0.0045\n",
            "Epoch 33/100\n",
            "8/8 [==============================] - 0s 1ms/step - loss: 0.0040\n",
            "Epoch 34/100\n",
            "8/8 [==============================] - 0s 1ms/step - loss: 0.0043\n",
            "Epoch 35/100\n",
            "8/8 [==============================] - 0s 1ms/step - loss: 0.0038\n",
            "Epoch 36/100\n",
            "8/8 [==============================] - 0s 1ms/step - loss: 0.0029\n",
            "Epoch 37/100\n",
            "8/8 [==============================] - 0s 1ms/step - loss: 0.0027\n",
            "Epoch 38/100\n",
            "8/8 [==============================] - 0s 1ms/step - loss: 0.0024\n",
            "Epoch 39/100\n",
            "8/8 [==============================] - 0s 1ms/step - loss: 0.0020\n",
            "Epoch 40/100\n",
            "8/8 [==============================] - 0s 1ms/step - loss: 0.0018\n",
            "Epoch 41/100\n",
            "8/8 [==============================] - 0s 1ms/step - loss: 0.0015\n",
            "Epoch 42/100\n",
            "8/8 [==============================] - 0s 1ms/step - loss: 0.0015\n",
            "Epoch 43/100\n",
            "8/8 [==============================] - 0s 1ms/step - loss: 0.0013\n",
            "Epoch 44/100\n",
            "8/8 [==============================] - 0s 1ms/step - loss: 0.0011\n",
            "Epoch 45/100\n",
            "8/8 [==============================] - 0s 2ms/step - loss: 9.1809e-04\n",
            "Epoch 46/100\n",
            "8/8 [==============================] - 0s 2ms/step - loss: 8.5613e-04\n",
            "Epoch 47/100\n",
            "8/8 [==============================] - 0s 2ms/step - loss: 7.4632e-04\n",
            "Epoch 48/100\n",
            "8/8 [==============================] - 0s 2ms/step - loss: 6.5882e-04\n",
            "Epoch 49/100\n",
            "8/8 [==============================] - 0s 2ms/step - loss: 5.5956e-04\n",
            "Epoch 50/100\n",
            "8/8 [==============================] - 0s 2ms/step - loss: 5.0309e-04\n",
            "Epoch 51/100\n",
            "8/8 [==============================] - 0s 2ms/step - loss: 4.2328e-04\n",
            "Epoch 52/100\n",
            "8/8 [==============================] - 0s 2ms/step - loss: 3.8578e-04\n",
            "Epoch 53/100\n",
            "8/8 [==============================] - 0s 2ms/step - loss: 3.3575e-04\n",
            "Epoch 54/100\n",
            "8/8 [==============================] - 0s 2ms/step - loss: 2.7048e-04\n",
            "Epoch 55/100\n",
            "8/8 [==============================] - 0s 2ms/step - loss: 2.8159e-04\n",
            "Epoch 56/100\n",
            "8/8 [==============================] - 0s 2ms/step - loss: 2.0686e-04\n",
            "Epoch 57/100\n",
            "8/8 [==============================] - 0s 2ms/step - loss: 1.8700e-04\n",
            "Epoch 58/100\n",
            "8/8 [==============================] - 0s 2ms/step - loss: 1.7383e-04\n",
            "Epoch 59/100\n",
            "8/8 [==============================] - 0s 1ms/step - loss: 1.3861e-04\n",
            "Epoch 60/100\n",
            "8/8 [==============================] - 0s 2ms/step - loss: 1.2176e-04\n",
            "Epoch 61/100\n",
            "8/8 [==============================] - 0s 2ms/step - loss: 1.0116e-04\n",
            "Epoch 62/100\n",
            "8/8 [==============================] - 0s 2ms/step - loss: 9.2609e-05\n",
            "Epoch 63/100\n",
            "8/8 [==============================] - 0s 2ms/step - loss: 8.4062e-05\n",
            "Epoch 64/100\n",
            "8/8 [==============================] - 0s 2ms/step - loss: 6.4820e-05\n",
            "Epoch 65/100\n",
            "8/8 [==============================] - 0s 2ms/step - loss: 5.6457e-05\n",
            "Epoch 66/100\n",
            "8/8 [==============================] - 0s 2ms/step - loss: 4.2413e-05\n",
            "Epoch 67/100\n",
            "8/8 [==============================] - 0s 1ms/step - loss: 4.2503e-05\n",
            "Epoch 68/100\n",
            "8/8 [==============================] - 0s 2ms/step - loss: 2.9797e-05\n",
            "Epoch 69/100\n",
            "8/8 [==============================] - 0s 2ms/step - loss: 2.6774e-05\n",
            "Epoch 70/100\n",
            "8/8 [==============================] - 0s 2ms/step - loss: 3.0627e-05\n",
            "Epoch 71/100\n",
            "8/8 [==============================] - 0s 2ms/step - loss: 2.6099e-05\n",
            "Epoch 72/100\n",
            "8/8 [==============================] - 0s 2ms/step - loss: 2.4541e-05\n",
            "Epoch 73/100\n",
            "8/8 [==============================] - 0s 2ms/step - loss: 1.5409e-05\n",
            "Epoch 74/100\n",
            "8/8 [==============================] - 0s 2ms/step - loss: 1.4543e-05\n",
            "Epoch 75/100\n",
            "8/8 [==============================] - 0s 2ms/step - loss: 9.7481e-06\n",
            "Epoch 76/100\n",
            "8/8 [==============================] - 0s 2ms/step - loss: 8.5321e-06\n",
            "Epoch 77/100\n",
            "8/8 [==============================] - 0s 2ms/step - loss: 6.3878e-06\n",
            "Epoch 78/100\n",
            "8/8 [==============================] - 0s 2ms/step - loss: 6.7029e-06\n",
            "Epoch 79/100\n",
            "8/8 [==============================] - 0s 2ms/step - loss: 4.8919e-06\n",
            "Epoch 80/100\n",
            "8/8 [==============================] - 0s 2ms/step - loss: 5.2205e-06\n",
            "Epoch 81/100\n",
            "8/8 [==============================] - 0s 2ms/step - loss: 3.6215e-06\n",
            "Epoch 82/100\n",
            "8/8 [==============================] - 0s 2ms/step - loss: 2.7122e-06\n",
            "Epoch 83/100\n",
            "8/8 [==============================] - 0s 2ms/step - loss: 1.9675e-06\n",
            "Epoch 84/100\n",
            "8/8 [==============================] - 0s 2ms/step - loss: 1.6836e-06\n",
            "Epoch 85/100\n",
            "8/8 [==============================] - 0s 2ms/step - loss: 1.1611e-06\n",
            "Epoch 86/100\n",
            "8/8 [==============================] - 0s 2ms/step - loss: 8.8538e-07\n",
            "Epoch 87/100\n",
            "8/8 [==============================] - 0s 3ms/step - loss: 7.0329e-07\n",
            "Epoch 88/100\n",
            "8/8 [==============================] - 0s 11ms/step - loss: 6.6214e-07\n",
            "Epoch 89/100\n",
            "8/8 [==============================] - 0s 19ms/step - loss: 4.0793e-07\n",
            "Epoch 90/100\n",
            "8/8 [==============================] - 0s 13ms/step - loss: 3.7240e-07\n",
            "Epoch 91/100\n",
            "8/8 [==============================] - 0s 7ms/step - loss: 2.7846e-07\n",
            "Epoch 92/100\n",
            "8/8 [==============================] - 0s 7ms/step - loss: 2.5988e-07\n",
            "Epoch 93/100\n",
            "8/8 [==============================] - 0s 6ms/step - loss: 1.7827e-07\n",
            "Epoch 94/100\n",
            "8/8 [==============================] - 0s 6ms/step - loss: 1.4359e-07\n",
            "Epoch 95/100\n",
            "8/8 [==============================] - 0s 3ms/step - loss: 2.1722e-07\n",
            "Epoch 96/100\n",
            "8/8 [==============================] - 0s 2ms/step - loss: 1.9149e-07\n",
            "Epoch 97/100\n",
            "8/8 [==============================] - 0s 2ms/step - loss: 1.0777e-07\n",
            "Epoch 98/100\n",
            "8/8 [==============================] - 0s 2ms/step - loss: 6.9919e-08\n",
            "Epoch 99/100\n",
            "8/8 [==============================] - 0s 2ms/step - loss: 7.1583e-08\n",
            "Epoch 100/100\n",
            "8/8 [==============================] - 0s 2ms/step - loss: 7.7203e-08\n"
          ]
        },
        {
          "output_type": "execute_result",
          "data": {
            "text/plain": [
              "<keras.src.callbacks.History at 0x7fb8f42e5ff0>"
            ]
          },
          "metadata": {},
          "execution_count": 12
        }
      ]
    },
    {
      "cell_type": "code",
      "source": [
        "#4. 평가 및 예측\n",
        "loss = model.evaluate(x_test, y_test)\n",
        "y_predict = model.predict(x_test)\n",
        "r2 = r2_score(y_test, y_predict)\n",
        "\n",
        "print(loss)\n",
        "print(r2)"
      ],
      "metadata": {
        "colab": {
          "base_uri": "https://localhost:8080/"
        },
        "id": "N8Zic0qUEwci",
        "outputId": "c6a241d8-21b4-4a1b-b1e7-554c3a0dc6ed"
      },
      "execution_count": 13,
      "outputs": [
        {
          "output_type": "stream",
          "name": "stdout",
          "text": [
            "1/1 [==============================] - 0s 147ms/step - loss: 7.1095e-09\n",
            "1/1 [==============================] - 0s 58ms/step\n",
            "7.10952008375898e-09\n",
            "0.999999998250928\n"
          ]
        }
      ]
    }
  ]
}
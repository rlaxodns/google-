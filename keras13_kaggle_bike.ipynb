{
  "nbformat": 4,
  "nbformat_minor": 0,
  "metadata": {
    "colab": {
      "provenance": [],
      "machine_shape": "hm",
      "authorship_tag": "ABX9TyNbbA7oCQzkXBxY/ArmR0gt",
      "include_colab_link": true
    },
    "kernelspec": {
      "name": "python3",
      "display_name": "Python 3"
    },
    "language_info": {
      "name": "python"
    }
  },
  "cells": [
    {
      "cell_type": "markdown",
      "metadata": {
        "id": "view-in-github",
        "colab_type": "text"
      },
      "source": [
        "<a href=\"https://colab.research.google.com/github/rlaxodns/google-/blob/main/keras13_kaggle_bike.ipynb\" target=\"_parent\"><img src=\"https://colab.research.google.com/assets/colab-badge.svg\" alt=\"Open In Colab\"/></a>"
      ]
    },
    {
      "cell_type": "code",
      "source": [
        "#라이브러리 구성\n",
        "import pandas as pd\n",
        "import numpy as np\n",
        "from keras.models import Sequential\n",
        "from keras.layers import Dense\n",
        "from sklearn.model_selection import train_test_split\n",
        "from sklearn.metrics import r2_score"
      ],
      "metadata": {
        "id": "ewjB9RNTRH-3"
      },
      "execution_count": 16,
      "outputs": []
    },
    {
      "cell_type": "code",
      "execution_count": 17,
      "metadata": {
        "colab": {
          "base_uri": "https://localhost:8080/",
          "height": 148
        },
        "id": "mIHUNOVGP1A-",
        "outputId": "22ae7a86-d1b9-45d5-8d19-aaa528c8c31b"
      },
      "outputs": [
        {
          "output_type": "display_data",
          "data": {
            "text/plain": [
              "<IPython.core.display.HTML object>"
            ],
            "text/html": [
              "\n",
              "     <input type=\"file\" id=\"files-3bdc8753-ec30-4804-b3fc-8bc421d0c81b\" name=\"files[]\" multiple disabled\n",
              "        style=\"border:none\" />\n",
              "     <output id=\"result-3bdc8753-ec30-4804-b3fc-8bc421d0c81b\">\n",
              "      Upload widget is only available when the cell has been executed in the\n",
              "      current browser session. Please rerun this cell to enable.\n",
              "      </output>\n",
              "      <script>// Copyright 2017 Google LLC\n",
              "//\n",
              "// Licensed under the Apache License, Version 2.0 (the \"License\");\n",
              "// you may not use this file except in compliance with the License.\n",
              "// You may obtain a copy of the License at\n",
              "//\n",
              "//      http://www.apache.org/licenses/LICENSE-2.0\n",
              "//\n",
              "// Unless required by applicable law or agreed to in writing, software\n",
              "// distributed under the License is distributed on an \"AS IS\" BASIS,\n",
              "// WITHOUT WARRANTIES OR CONDITIONS OF ANY KIND, either express or implied.\n",
              "// See the License for the specific language governing permissions and\n",
              "// limitations under the License.\n",
              "\n",
              "/**\n",
              " * @fileoverview Helpers for google.colab Python module.\n",
              " */\n",
              "(function(scope) {\n",
              "function span(text, styleAttributes = {}) {\n",
              "  const element = document.createElement('span');\n",
              "  element.textContent = text;\n",
              "  for (const key of Object.keys(styleAttributes)) {\n",
              "    element.style[key] = styleAttributes[key];\n",
              "  }\n",
              "  return element;\n",
              "}\n",
              "\n",
              "// Max number of bytes which will be uploaded at a time.\n",
              "const MAX_PAYLOAD_SIZE = 100 * 1024;\n",
              "\n",
              "function _uploadFiles(inputId, outputId) {\n",
              "  const steps = uploadFilesStep(inputId, outputId);\n",
              "  const outputElement = document.getElementById(outputId);\n",
              "  // Cache steps on the outputElement to make it available for the next call\n",
              "  // to uploadFilesContinue from Python.\n",
              "  outputElement.steps = steps;\n",
              "\n",
              "  return _uploadFilesContinue(outputId);\n",
              "}\n",
              "\n",
              "// This is roughly an async generator (not supported in the browser yet),\n",
              "// where there are multiple asynchronous steps and the Python side is going\n",
              "// to poll for completion of each step.\n",
              "// This uses a Promise to block the python side on completion of each step,\n",
              "// then passes the result of the previous step as the input to the next step.\n",
              "function _uploadFilesContinue(outputId) {\n",
              "  const outputElement = document.getElementById(outputId);\n",
              "  const steps = outputElement.steps;\n",
              "\n",
              "  const next = steps.next(outputElement.lastPromiseValue);\n",
              "  return Promise.resolve(next.value.promise).then((value) => {\n",
              "    // Cache the last promise value to make it available to the next\n",
              "    // step of the generator.\n",
              "    outputElement.lastPromiseValue = value;\n",
              "    return next.value.response;\n",
              "  });\n",
              "}\n",
              "\n",
              "/**\n",
              " * Generator function which is called between each async step of the upload\n",
              " * process.\n",
              " * @param {string} inputId Element ID of the input file picker element.\n",
              " * @param {string} outputId Element ID of the output display.\n",
              " * @return {!Iterable<!Object>} Iterable of next steps.\n",
              " */\n",
              "function* uploadFilesStep(inputId, outputId) {\n",
              "  const inputElement = document.getElementById(inputId);\n",
              "  inputElement.disabled = false;\n",
              "\n",
              "  const outputElement = document.getElementById(outputId);\n",
              "  outputElement.innerHTML = '';\n",
              "\n",
              "  const pickedPromise = new Promise((resolve) => {\n",
              "    inputElement.addEventListener('change', (e) => {\n",
              "      resolve(e.target.files);\n",
              "    });\n",
              "  });\n",
              "\n",
              "  const cancel = document.createElement('button');\n",
              "  inputElement.parentElement.appendChild(cancel);\n",
              "  cancel.textContent = 'Cancel upload';\n",
              "  const cancelPromise = new Promise((resolve) => {\n",
              "    cancel.onclick = () => {\n",
              "      resolve(null);\n",
              "    };\n",
              "  });\n",
              "\n",
              "  // Wait for the user to pick the files.\n",
              "  const files = yield {\n",
              "    promise: Promise.race([pickedPromise, cancelPromise]),\n",
              "    response: {\n",
              "      action: 'starting',\n",
              "    }\n",
              "  };\n",
              "\n",
              "  cancel.remove();\n",
              "\n",
              "  // Disable the input element since further picks are not allowed.\n",
              "  inputElement.disabled = true;\n",
              "\n",
              "  if (!files) {\n",
              "    return {\n",
              "      response: {\n",
              "        action: 'complete',\n",
              "      }\n",
              "    };\n",
              "  }\n",
              "\n",
              "  for (const file of files) {\n",
              "    const li = document.createElement('li');\n",
              "    li.append(span(file.name, {fontWeight: 'bold'}));\n",
              "    li.append(span(\n",
              "        `(${file.type || 'n/a'}) - ${file.size} bytes, ` +\n",
              "        `last modified: ${\n",
              "            file.lastModifiedDate ? file.lastModifiedDate.toLocaleDateString() :\n",
              "                                    'n/a'} - `));\n",
              "    const percent = span('0% done');\n",
              "    li.appendChild(percent);\n",
              "\n",
              "    outputElement.appendChild(li);\n",
              "\n",
              "    const fileDataPromise = new Promise((resolve) => {\n",
              "      const reader = new FileReader();\n",
              "      reader.onload = (e) => {\n",
              "        resolve(e.target.result);\n",
              "      };\n",
              "      reader.readAsArrayBuffer(file);\n",
              "    });\n",
              "    // Wait for the data to be ready.\n",
              "    let fileData = yield {\n",
              "      promise: fileDataPromise,\n",
              "      response: {\n",
              "        action: 'continue',\n",
              "      }\n",
              "    };\n",
              "\n",
              "    // Use a chunked sending to avoid message size limits. See b/62115660.\n",
              "    let position = 0;\n",
              "    do {\n",
              "      const length = Math.min(fileData.byteLength - position, MAX_PAYLOAD_SIZE);\n",
              "      const chunk = new Uint8Array(fileData, position, length);\n",
              "      position += length;\n",
              "\n",
              "      const base64 = btoa(String.fromCharCode.apply(null, chunk));\n",
              "      yield {\n",
              "        response: {\n",
              "          action: 'append',\n",
              "          file: file.name,\n",
              "          data: base64,\n",
              "        },\n",
              "      };\n",
              "\n",
              "      let percentDone = fileData.byteLength === 0 ?\n",
              "          100 :\n",
              "          Math.round((position / fileData.byteLength) * 100);\n",
              "      percent.textContent = `${percentDone}% done`;\n",
              "\n",
              "    } while (position < fileData.byteLength);\n",
              "  }\n",
              "\n",
              "  // All done.\n",
              "  yield {\n",
              "    response: {\n",
              "      action: 'complete',\n",
              "    }\n",
              "  };\n",
              "}\n",
              "\n",
              "scope.google = scope.google || {};\n",
              "scope.google.colab = scope.google.colab || {};\n",
              "scope.google.colab._files = {\n",
              "  _uploadFiles,\n",
              "  _uploadFilesContinue,\n",
              "};\n",
              "})(self);\n",
              "</script> "
            ]
          },
          "metadata": {}
        },
        {
          "output_type": "stream",
          "name": "stdout",
          "text": [
            "Saving sampleSubmission.csv to sampleSubmission (1).csv\n",
            "Saving test.csv to test (1).csv\n",
            "Saving train.csv to train (1).csv\n"
          ]
        }
      ],
      "source": [
        "from google.colab import files\n",
        "uploaded = files.upload()"
      ]
    },
    {
      "cell_type": "code",
      "source": [
        "#1. 데이터 구성\n",
        "## 데이터 전처리\n",
        "train_csv = pd.read_csv('/content/train.csv', index_col = 0)\n",
        "test_csv = pd.read_csv('/content/test.csv',index_col = 0)\n",
        "samplesubmission_csv = pd.read_csv('/content/sampleSubmission.csv', index_col=0)\n",
        "\n",
        "# 데이터 결측치 확인\n",
        "print(train_csv.isna().sum())\n",
        "print(test_csv.isna().sum())\n",
        "print(samplesubmission_csv.isna().sum())\n",
        "\n",
        "# 결측치 없음을 확인하고 결측치가 있을 경우에는 1)평균치를 대입하거나 2)결측치가 있는 데이터를 삭제\n",
        "# 3) 결측치에 0을 대입\n",
        "\n",
        "# 데이터의 형태 확인\n",
        "print(train_csv.shape)  #(10886, 12)\n",
        "print(test_csv.shape)   #(6493, 9)\n",
        "print(samplesubmission_csv.shape)  #(6493, 2)\n",
        "# train 데이터와 test 데이터의 컬럼의 크기가 다르기 때문에 맞춰줄 필요가 있다.\n"
      ],
      "metadata": {
        "colab": {
          "base_uri": "https://localhost:8080/"
        },
        "id": "Lbm3cMXLQAo-",
        "outputId": "5e3844b3-a7c1-4db1-e0e0-f9f4286d0365"
      },
      "execution_count": 32,
      "outputs": [
        {
          "output_type": "stream",
          "name": "stdout",
          "text": [
            "season        0\n",
            "holiday       0\n",
            "workingday    0\n",
            "weather       0\n",
            "temp          0\n",
            "atemp         0\n",
            "humidity      0\n",
            "windspeed     0\n",
            "casual        0\n",
            "registered    0\n",
            "count         0\n",
            "dtype: int64\n",
            "season        0\n",
            "holiday       0\n",
            "workingday    0\n",
            "weather       0\n",
            "temp          0\n",
            "atemp         0\n",
            "humidity      0\n",
            "windspeed     0\n",
            "dtype: int64\n",
            "count    0\n",
            "dtype: int64\n",
            "(10886, 11)\n",
            "(6493, 8)\n",
            "(6493, 1)\n"
          ]
        }
      ]
    },
    {
      "cell_type": "code",
      "source": [
        "# train 데이터의 평균등의 수치를 설명해주는 함수\n",
        "print(train_csv.describe())\n",
        "\n",
        "# std:표준편차      # 평균과 중위값의 격차를 고려해야 한다\n",
        "# 중위값과 데이터 중에서 크게 차이나는 값을 '이상치'라고 한다 # 1/4분위 & 3/4분위"
      ],
      "metadata": {
        "colab": {
          "base_uri": "https://localhost:8080/"
        },
        "id": "yJDoFoVfYKgb",
        "outputId": "88983bdd-1f11-48c3-ba1a-596e6350c043"
      },
      "execution_count": 43,
      "outputs": [
        {
          "output_type": "stream",
          "name": "stdout",
          "text": [
            "             season       holiday    workingday  ...        casual    registered         count\n",
            "count  10886.000000  10886.000000  10886.000000  ...  10886.000000  10886.000000  10886.000000\n",
            "mean       2.506614      0.028569      0.680875  ...     36.021955    155.552177    191.574132\n",
            "std        1.116174      0.166599      0.466159  ...     49.960477    151.039033    181.144454\n",
            "min        1.000000      0.000000      0.000000  ...      0.000000      0.000000      1.000000\n",
            "25%        2.000000      0.000000      0.000000  ...      4.000000     36.000000     42.000000\n",
            "50%        3.000000      0.000000      1.000000  ...     17.000000    118.000000    145.000000\n",
            "75%        4.000000      0.000000      1.000000  ...     49.000000    222.000000    284.000000\n",
            "max        4.000000      1.000000      1.000000  ...    367.000000    886.000000    977.000000\n",
            "\n",
            "[8 rows x 11 columns]\n"
          ]
        }
      ]
    },
    {
      "cell_type": "code",
      "source": [
        "#. x와 y를 구성\n",
        "x = train_csv.drop(['casual', 'registered', 'count'], axis=1)\n",
        " #[]:대괄호는 파이썬의 리스트 {}: 딕셔너리 (): 튜플\n",
        "# 따라서 리스트 형태이기 때문에 각각을 대괄호로 묶는 것이 아니라 전체를 괄호치면서 리스트로 만든다\n",
        "# 두개 이상은 리스트 따라서 한개는 소괄호만으로도 가능\n",
        "\n",
        "y = train_csv['count']\n",
        "\n",
        "print(x.shape, y.shape)"
      ],
      "metadata": {
        "colab": {
          "base_uri": "https://localhost:8080/"
        },
        "id": "BTe4mJaASiBn",
        "outputId": "ef76b285-529f-49cc-bacd-ecb188f8882b"
      },
      "execution_count": 33,
      "outputs": [
        {
          "output_type": "stream",
          "name": "stdout",
          "text": [
            "(10886, 8) (10886,)\n"
          ]
        }
      ]
    },
    {
      "cell_type": "code",
      "source": [
        "#. train data와 test data로 분할\n",
        "x_train, x_test, y_train, y_test = train_test_split(x, y, test_size=0.2, random_state=123)\n",
        "print(x_train.shape, x_test.shape, y_train.shape, y_test.shape)"
      ],
      "metadata": {
        "colab": {
          "base_uri": "https://localhost:8080/"
        },
        "id": "bYGmFLTgTmwO",
        "outputId": "532bf77e-b29e-4d22-95b3-fece02dfbd3f"
      },
      "execution_count": 28,
      "outputs": [
        {
          "output_type": "stream",
          "name": "stdout",
          "text": [
            "(8708, 8) (2178, 8) (8708,) (2178,)\n"
          ]
        }
      ]
    },
    {
      "cell_type": "code",
      "source": [
        "#2. 모델 구성\n",
        "model = Sequential()\n",
        "model.add(Dense(128, input_dim = 8, activation = 'relu'))\n",
        "model.add(Dense(64, activation = 'relu'))\n",
        "model.add(Dense(1, activation = 'relu'))\n",
        "model.summary()\n",
        "\n",
        "# activation function(활성화 함수)을 통해서\n",
        " # 음수를 배제할 수 있음, relu: 양수는 그대로, 음수는 0으로"
      ],
      "metadata": {
        "colab": {
          "base_uri": "https://localhost:8080/"
        },
        "id": "4eeL5i5bT_H-",
        "outputId": "77cbf36d-3663-4937-9915-9d57cc08fa54"
      },
      "execution_count": 38,
      "outputs": [
        {
          "output_type": "stream",
          "name": "stdout",
          "text": [
            "Model: \"sequential_4\"\n",
            "_________________________________________________________________\n",
            " Layer (type)                Output Shape              Param #   \n",
            "=================================================================\n",
            " dense_12 (Dense)            (None, 128)               1152      \n",
            "                                                                 \n",
            " dense_13 (Dense)            (None, 64)                8256      \n",
            "                                                                 \n",
            " dense_14 (Dense)            (None, 1)                 65        \n",
            "                                                                 \n",
            "=================================================================\n",
            "Total params: 9473 (37.00 KB)\n",
            "Trainable params: 9473 (37.00 KB)\n",
            "Non-trainable params: 0 (0.00 Byte)\n",
            "_________________________________________________________________\n"
          ]
        }
      ]
    },
    {
      "cell_type": "code",
      "source": [
        "#3.컴파일 및 훈련\n",
        "model.compile(loss = 'mse', optimizer = 'adam')\n",
        "model.fit(x_train, y_train, epochs = 100, batch_size = 16)"
      ],
      "metadata": {
        "colab": {
          "base_uri": "https://localhost:8080/"
        },
        "id": "bXPfnbhlUVSD",
        "outputId": "22dfe2cc-b321-4a21-90bc-12df8180dc0d"
      },
      "execution_count": 39,
      "outputs": [
        {
          "output_type": "stream",
          "name": "stdout",
          "text": [
            "Epoch 1/100\n",
            "545/545 [==============================] - 1s 1ms/step - loss: 28598.5586\n",
            "Epoch 2/100\n",
            "545/545 [==============================] - 1s 2ms/step - loss: 24832.8848\n",
            "Epoch 3/100\n",
            "545/545 [==============================] - 1s 2ms/step - loss: 24547.8945\n",
            "Epoch 4/100\n",
            "545/545 [==============================] - 1s 2ms/step - loss: 24372.4668\n",
            "Epoch 5/100\n",
            "545/545 [==============================] - 1s 2ms/step - loss: 24236.0918\n",
            "Epoch 6/100\n",
            "545/545 [==============================] - 1s 2ms/step - loss: 24116.0938\n",
            "Epoch 7/100\n",
            "545/545 [==============================] - 1s 2ms/step - loss: 23996.9434\n",
            "Epoch 8/100\n",
            "545/545 [==============================] - 1s 2ms/step - loss: 23942.9141\n",
            "Epoch 9/100\n",
            "545/545 [==============================] - 1s 2ms/step - loss: 23823.7461\n",
            "Epoch 10/100\n",
            "545/545 [==============================] - 1s 2ms/step - loss: 23768.4531\n",
            "Epoch 11/100\n",
            "545/545 [==============================] - 1s 2ms/step - loss: 23771.5703\n",
            "Epoch 12/100\n",
            "545/545 [==============================] - 1s 2ms/step - loss: 23746.5605\n",
            "Epoch 13/100\n",
            "545/545 [==============================] - 1s 2ms/step - loss: 23770.8887\n",
            "Epoch 14/100\n",
            "545/545 [==============================] - 1s 2ms/step - loss: 23732.0918\n",
            "Epoch 15/100\n",
            "545/545 [==============================] - 1s 2ms/step - loss: 23674.1973\n",
            "Epoch 16/100\n",
            "545/545 [==============================] - 1s 2ms/step - loss: 23694.3203\n",
            "Epoch 17/100\n",
            "545/545 [==============================] - 1s 2ms/step - loss: 23683.3125\n",
            "Epoch 18/100\n",
            "545/545 [==============================] - 1s 1ms/step - loss: 23695.1172\n",
            "Epoch 19/100\n",
            "545/545 [==============================] - 1s 2ms/step - loss: 23628.2949\n",
            "Epoch 20/100\n",
            "545/545 [==============================] - 1s 2ms/step - loss: 23593.6816\n",
            "Epoch 21/100\n",
            "545/545 [==============================] - 1s 2ms/step - loss: 23584.1348\n",
            "Epoch 22/100\n",
            "545/545 [==============================] - 1s 2ms/step - loss: 23466.1875\n",
            "Epoch 23/100\n",
            "545/545 [==============================] - 1s 2ms/step - loss: 23450.7344\n",
            "Epoch 24/100\n",
            "545/545 [==============================] - 1s 2ms/step - loss: 23457.7168\n",
            "Epoch 25/100\n",
            "545/545 [==============================] - 1s 2ms/step - loss: 23338.4023\n",
            "Epoch 26/100\n",
            "545/545 [==============================] - 1s 2ms/step - loss: 23398.9512\n",
            "Epoch 27/100\n",
            "545/545 [==============================] - 1s 2ms/step - loss: 23284.3926\n",
            "Epoch 28/100\n",
            "545/545 [==============================] - 1s 2ms/step - loss: 23331.0469\n",
            "Epoch 29/100\n",
            "545/545 [==============================] - 1s 2ms/step - loss: 23277.1621\n",
            "Epoch 30/100\n",
            "545/545 [==============================] - 1s 2ms/step - loss: 23248.9082\n",
            "Epoch 31/100\n",
            "545/545 [==============================] - 1s 2ms/step - loss: 23184.7539\n",
            "Epoch 32/100\n",
            "545/545 [==============================] - 1s 2ms/step - loss: 23273.0078\n",
            "Epoch 33/100\n",
            "545/545 [==============================] - 1s 2ms/step - loss: 23173.5742\n",
            "Epoch 34/100\n",
            "545/545 [==============================] - 1s 2ms/step - loss: 23172.8262\n",
            "Epoch 35/100\n",
            "545/545 [==============================] - 1s 2ms/step - loss: 23093.4375\n",
            "Epoch 36/100\n",
            "545/545 [==============================] - 1s 2ms/step - loss: 23171.9453\n",
            "Epoch 37/100\n",
            "545/545 [==============================] - 1s 2ms/step - loss: 23119.8516\n",
            "Epoch 38/100\n",
            "545/545 [==============================] - 1s 2ms/step - loss: 23186.2969\n",
            "Epoch 39/100\n",
            "545/545 [==============================] - 1s 2ms/step - loss: 23043.9355\n",
            "Epoch 40/100\n",
            "545/545 [==============================] - 1s 2ms/step - loss: 23051.6973\n",
            "Epoch 41/100\n",
            "545/545 [==============================] - 1s 2ms/step - loss: 23059.7227\n",
            "Epoch 42/100\n",
            "545/545 [==============================] - 1s 2ms/step - loss: 23052.0645\n",
            "Epoch 43/100\n",
            "545/545 [==============================] - 1s 2ms/step - loss: 22939.5430\n",
            "Epoch 44/100\n",
            "545/545 [==============================] - 1s 2ms/step - loss: 23006.2891\n",
            "Epoch 45/100\n",
            "545/545 [==============================] - 1s 2ms/step - loss: 22930.7852\n",
            "Epoch 46/100\n",
            "545/545 [==============================] - 1s 2ms/step - loss: 22919.1562\n",
            "Epoch 47/100\n",
            "545/545 [==============================] - 1s 2ms/step - loss: 22993.1680\n",
            "Epoch 48/100\n",
            "545/545 [==============================] - 1s 2ms/step - loss: 22838.3613\n",
            "Epoch 49/100\n",
            "545/545 [==============================] - 1s 2ms/step - loss: 22903.0352\n",
            "Epoch 50/100\n",
            "545/545 [==============================] - 1s 2ms/step - loss: 22879.2441\n",
            "Epoch 51/100\n",
            "545/545 [==============================] - 1s 2ms/step - loss: 22866.8672\n",
            "Epoch 52/100\n",
            "545/545 [==============================] - 1s 2ms/step - loss: 22892.8555\n",
            "Epoch 53/100\n",
            "545/545 [==============================] - 1s 2ms/step - loss: 22742.6445\n",
            "Epoch 54/100\n",
            "545/545 [==============================] - 1s 2ms/step - loss: 22850.0703\n",
            "Epoch 55/100\n",
            "545/545 [==============================] - 1s 2ms/step - loss: 22851.9258\n",
            "Epoch 56/100\n",
            "545/545 [==============================] - 1s 2ms/step - loss: 22824.1738\n",
            "Epoch 57/100\n",
            "545/545 [==============================] - 1s 2ms/step - loss: 22843.8242\n",
            "Epoch 58/100\n",
            "545/545 [==============================] - 1s 2ms/step - loss: 22752.8125\n",
            "Epoch 59/100\n",
            "545/545 [==============================] - 1s 2ms/step - loss: 22733.7812\n",
            "Epoch 60/100\n",
            "545/545 [==============================] - 1s 2ms/step - loss: 22792.5137\n",
            "Epoch 61/100\n",
            "545/545 [==============================] - 1s 2ms/step - loss: 22735.9629\n",
            "Epoch 62/100\n",
            "545/545 [==============================] - 1s 2ms/step - loss: 22777.9121\n",
            "Epoch 63/100\n",
            "545/545 [==============================] - 1s 2ms/step - loss: 22788.6230\n",
            "Epoch 64/100\n",
            "545/545 [==============================] - 1s 2ms/step - loss: 22725.4238\n",
            "Epoch 65/100\n",
            "545/545 [==============================] - 1s 2ms/step - loss: 22770.3418\n",
            "Epoch 66/100\n",
            "545/545 [==============================] - 1s 2ms/step - loss: 22762.3008\n",
            "Epoch 67/100\n",
            "545/545 [==============================] - 1s 2ms/step - loss: 22695.7832\n",
            "Epoch 68/100\n",
            "545/545 [==============================] - 1s 2ms/step - loss: 22622.3145\n",
            "Epoch 69/100\n",
            "545/545 [==============================] - 1s 2ms/step - loss: 22718.4824\n",
            "Epoch 70/100\n",
            "545/545 [==============================] - 1s 2ms/step - loss: 22630.5488\n",
            "Epoch 71/100\n",
            "545/545 [==============================] - 1s 2ms/step - loss: 22647.7617\n",
            "Epoch 72/100\n",
            "545/545 [==============================] - 1s 2ms/step - loss: 22623.6152\n",
            "Epoch 73/100\n",
            "545/545 [==============================] - 1s 2ms/step - loss: 22689.6074\n",
            "Epoch 74/100\n",
            "545/545 [==============================] - 1s 2ms/step - loss: 22693.5039\n",
            "Epoch 75/100\n",
            "545/545 [==============================] - 1s 2ms/step - loss: 22613.0508\n",
            "Epoch 76/100\n",
            "545/545 [==============================] - 1s 2ms/step - loss: 22594.1406\n",
            "Epoch 77/100\n",
            "545/545 [==============================] - 1s 2ms/step - loss: 22625.0488\n",
            "Epoch 78/100\n",
            "545/545 [==============================] - 1s 2ms/step - loss: 22548.8145\n",
            "Epoch 79/100\n",
            "545/545 [==============================] - 1s 2ms/step - loss: 22698.9980\n",
            "Epoch 80/100\n",
            "545/545 [==============================] - 1s 2ms/step - loss: 22536.6719\n",
            "Epoch 81/100\n",
            "545/545 [==============================] - 1s 2ms/step - loss: 22583.9531\n",
            "Epoch 82/100\n",
            "545/545 [==============================] - 1s 2ms/step - loss: 22547.5273\n",
            "Epoch 83/100\n",
            "545/545 [==============================] - 1s 2ms/step - loss: 22531.0996\n",
            "Epoch 84/100\n",
            "545/545 [==============================] - 1s 2ms/step - loss: 22507.7910\n",
            "Epoch 85/100\n",
            "545/545 [==============================] - 1s 2ms/step - loss: 22495.3262\n",
            "Epoch 86/100\n",
            "545/545 [==============================] - 1s 2ms/step - loss: 22487.9121\n",
            "Epoch 87/100\n",
            "545/545 [==============================] - 1s 2ms/step - loss: 22459.8242\n",
            "Epoch 88/100\n",
            "545/545 [==============================] - 1s 2ms/step - loss: 22445.3828\n",
            "Epoch 89/100\n",
            "545/545 [==============================] - 1s 2ms/step - loss: 22450.3555\n",
            "Epoch 90/100\n",
            "545/545 [==============================] - 1s 2ms/step - loss: 22414.4023\n",
            "Epoch 91/100\n",
            "545/545 [==============================] - 1s 2ms/step - loss: 22434.3457\n",
            "Epoch 92/100\n",
            "545/545 [==============================] - 1s 2ms/step - loss: 22426.1172\n",
            "Epoch 93/100\n",
            "545/545 [==============================] - 1s 2ms/step - loss: 22449.4707\n",
            "Epoch 94/100\n",
            "545/545 [==============================] - 1s 2ms/step - loss: 22484.9863\n",
            "Epoch 95/100\n",
            "545/545 [==============================] - 1s 2ms/step - loss: 22386.8672\n",
            "Epoch 96/100\n",
            "545/545 [==============================] - 1s 2ms/step - loss: 22358.7578\n",
            "Epoch 97/100\n",
            "545/545 [==============================] - 1s 2ms/step - loss: 22347.7090\n",
            "Epoch 98/100\n",
            "545/545 [==============================] - 1s 2ms/step - loss: 22406.3105\n",
            "Epoch 99/100\n",
            "545/545 [==============================] - 1s 2ms/step - loss: 22383.5449\n",
            "Epoch 100/100\n",
            "545/545 [==============================] - 1s 2ms/step - loss: 22346.6289\n"
          ]
        },
        {
          "output_type": "execute_result",
          "data": {
            "text/plain": [
              "<keras.src.callbacks.History at 0x78824c779d80>"
            ]
          },
          "metadata": {},
          "execution_count": 39
        }
      ]
    },
    {
      "cell_type": "code",
      "source": [
        "#4. 평가 및 예측\n",
        "loss = model.evaluate(x_test, y_test)\n",
        "result = model.predict(test_csv)\n",
        "\n",
        "y_predict = model.predict(x_test)\n",
        "r2 = r2_score(y_test, y_predict)\n",
        "\n",
        "print(result)\n",
        "print(loss)\n",
        "print(r2)"
      ],
      "metadata": {
        "colab": {
          "base_uri": "https://localhost:8080/"
        },
        "id": "JhVOssdMUigm",
        "outputId": "ee62b24b-8d6d-412c-89b1-0e7058783215"
      },
      "execution_count": 40,
      "outputs": [
        {
          "output_type": "stream",
          "name": "stdout",
          "text": [
            "69/69 [==============================] - 0s 2ms/step - loss: 22352.7793\n",
            "203/203 [==============================] - 0s 1ms/step\n",
            "69/69 [==============================] - 0s 1ms/step\n",
            "[[89.43447]\n",
            " [88.36071]\n",
            " [88.36071]\n",
            " ...\n",
            " [86.61614]\n",
            " [91.47839]\n",
            " [85.55748]]\n",
            "22352.779296875\n",
            "0.30158879950603557\n"
          ]
        }
      ]
    },
    {
      "cell_type": "code",
      "source": [
        "#5. 파일 출력\n",
        "samplesubmission_csv['count'] = result\n",
        "samplesubmission_csv.to_csv(\"/content/sampleSubmission_colab_01.csv\")"
      ],
      "metadata": {
        "id": "RjzyX5etWwEu"
      },
      "execution_count": 41,
      "outputs": []
    }
  ]
}